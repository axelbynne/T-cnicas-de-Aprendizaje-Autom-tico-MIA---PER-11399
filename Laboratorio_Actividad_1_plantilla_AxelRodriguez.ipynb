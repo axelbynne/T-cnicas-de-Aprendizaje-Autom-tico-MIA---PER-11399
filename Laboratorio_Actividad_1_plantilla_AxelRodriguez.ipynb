{
  "cells": [
    {
      "cell_type": "markdown",
      "metadata": {
        "id": "view-in-github",
        "colab_type": "text"
      },
      "source": [
        "<a href=\"https://colab.research.google.com/github/axelbynne/T-cnicas-de-Aprendizaje-Autom-tico-MIA---PER-11399/blob/main/Laboratorio_Actividad_1_plantilla_AxelRodriguez.ipynb\" target=\"_parent\"><img src=\"https://colab.research.google.com/assets/colab-badge.svg\" alt=\"Open In Colab\"/></a>"
      ]
    },
    {
      "cell_type": "markdown",
      "id": "e7acabdb",
      "metadata": {
        "id": "e7acabdb"
      },
      "source": [
        "_Aprendizaje Automático_\n",
        "\n",
        "_Máster Universitario en Inteligencia Artificial_\n",
        "\n",
        "# Laboratorio: Regresión lineal y árboles de decisión para tareas de regresión\n",
        "\n",
        "\n",
        "## Objetivos\n",
        "\n",
        "Mediante esta actividad se pretende que ponga en práctica los pasos para la resolución de un problema de machine learning, el tratamiento de datos y la creación de modelos basados en regresión lineal y árboles de decisión. El objetivo es comprender de forma práctica con un problema determinado las diferencias que existen a la hora de entrenar los diferentes modelos.\n",
        "\n",
        "- Iniciarse en el Análisis Exploratorio de Datos (EDA) para los problemas de Machine Learning.\n",
        "- Entender y aplicar los conceptos de la Regresión Lineal Múltiple a un problema de regresión.\n",
        "- Entender y aplicar los conceptos de Árboles de Decisión a un problema de regresión.\n",
        "- Evaluar y analizar los resultados de los regresores.\n",
        "- Investigar la aplicación de los modelos de regresión a problemas reales.\n",
        "\n",
        "\n",
        "## Descripción de la actividad\n",
        "\n",
        "Debes completar los espacios indicados en el notebook con el código solicitado y la respuesta, en función de lo que se solicite. Ten encuenta que las celdas vacías indican cuántas líneas debe ocupar la respuesta, por lo general no más de una línea.\n",
        "\n",
        "El conjunto de datos con el que vamos a trabajar se encuentra en el siguiente enlace: https://archive.ics.uci.edu/dataset/360/air+quality\n",
        "\n",
        "Se trata de un dataset con un conjunto de datos sobre calidad del aire. El conjunto de datos contiene 9358 instancias de respuestas promediadas por hora de una matriz de 5 sensores químicos de óxido de metal integrados en un dispositivo multisensor químico de calidad del aire. El dispositivo estaba ubicado en un área significativamente contaminada, al nivel de la carretera, dentro de una ciudad italiana. Los datos se registraron desde marzo de 2004 hasta febrero de 2005 (un año).\n",
        "\n",
        "El objetivo de la regresión será predecir la calidad del aire para un determinado día.\n",
        "\n",
        "### Tareas que se deben realizar\n",
        "\n",
        "- Análisis descriptivo de los datos:\n",
        "   - Debe completarse el código solicitado y responder a las preguntas. Todo ello en el notebook dado como base.\n",
        "- Regresión:\n",
        "  - Debe completarse el código solicitado y responder a las preguntas. Todo ello en el notebook dado como base.\n",
        "- Investigación:\n",
        "  - Buscar un artículo científico (https://scholar.google.es/) con un caso de uso de regresión empleando una de las dos técnicas (o ambas) vistas en la actividad. Los artículos deben estar en revistas científicas, y deben ser posteriores a 2015. No debe utilizar técnicas de Deep Learning.\n",
        "  - Para el artículo indicar:\n",
        "    - Objetivo: cuál es el objetivo de la investigación, es decir a qué problema real está aplicando la regresión.\n",
        "    - Cómo utilizan las técnicas de regresión, si realizan alguna adaptación de los algoritmos indicarse.\n",
        "    - Principales resultados de la aplicación y de la investigación.\n"
      ]
    },
    {
      "cell_type": "markdown",
      "id": "19ceaba2",
      "metadata": {
        "jp-MarkdownHeadingCollapsed": true,
        "id": "19ceaba2"
      },
      "source": [
        "### Análisis descriptivo de los datos\n",
        "A continuación vas a encontrar una serie de preguntas que tendrás que responder. Para responder tendrás que escribir (y ejecutar) una (o más de una) línea de código, y a continuación indicar la respuesta en la celda indicada."
      ]
    },
    {
      "cell_type": "code",
      "source": [
        "# cargar el dataset\n",
        "import pandas as pd\n",
        "\n",
        "dataset = pd.read_csv('sample_data/AirQualityUCI.csv', delimiter=';')"
      ],
      "metadata": {
        "id": "ZeD4rbTQjLBA"
      },
      "id": "ZeD4rbTQjLBA",
      "execution_count": 1,
      "outputs": []
    },
    {
      "cell_type": "code",
      "execution_count": 3,
      "id": "e18abd86",
      "metadata": {
        "id": "e18abd86",
        "colab": {
          "base_uri": "https://localhost:8080/"
        },
        "outputId": "71898cb1-b1a2-44c1-db42-525ac06d24d3"
      },
      "outputs": [
        {
          "output_type": "stream",
          "name": "stdout",
          "text": [
            "Sin depurar tiene 9471 instancias.\n",
            "__________________________________________\n",
            "Date              114\n",
            "Time              114\n",
            "CO(GT)            114\n",
            "PT08.S1(CO)       114\n",
            "NMHC(GT)          114\n",
            "C6H6(GT)          114\n",
            "PT08.S2(NMHC)     114\n",
            "NOx(GT)           114\n",
            "PT08.S3(NOx)      114\n",
            "NO2(GT)           114\n",
            "PT08.S4(NO2)      114\n",
            "PT08.S5(O3)       114\n",
            "T                 114\n",
            "RH                114\n",
            "AH                114\n",
            "Unnamed: 15      9471\n",
            "Unnamed: 16      9471\n",
            "dtype: int64\n",
            "__________________________________________\n"
          ]
        }
      ],
      "source": [
        "## ¿cuántas instancias tiene el dataset?\n",
        "## ¿cuál es el tipo de datos de cada una de las columnas?\n",
        "import numpy as np\n",
        "\n",
        "n_instancias = dataset.shape[0]\n",
        "print(f\"Sin depurar tiene {n_instancias} instancias.\") #Aparecen 9471 instancias\n",
        "print('_' * 42)\n",
        "\n",
        "print(dataset.isnull().sum()) #Nulos por columna\n",
        "print('_' * 42)"
      ]
    },
    {
      "cell_type": "markdown",
      "source": [],
      "metadata": {
        "id": "wHSXM7hLklNp"
      },
      "id": "wHSXM7hLklNp"
    },
    {
      "cell_type": "markdown",
      "id": "d1c990c1",
      "metadata": {
        "id": "d1c990c1"
      },
      "source": [
        "Se muestra que hay 9471 instancias, lo cuál demuestra una coincidencia con lo indicado en la descripción de la web del dataset.\n",
        "\n",
        "Por lo tanto,hay que efectura un proceso de limpieza de los datos debido a que:\n",
        "\n",
        "Las columnas 15 y 16 no  contienen datos.\n",
        "El resto de datos tiene 114 filas nulas._indica aquí tu respuesta_"
      ]
    },
    {
      "cell_type": "code",
      "execution_count": 4,
      "metadata": {
        "colab": {
          "base_uri": "https://localhost:8080/"
        },
        "id": "HKWRCS6skqK0",
        "outputId": "c3c32238-2b0a-4773-efc6-19ead2ef68b0"
      },
      "outputs": [
        {
          "output_type": "stream",
          "name": "stdout",
          "text": [
            "Date             0\n",
            "Time             0\n",
            "CO(GT)           0\n",
            "PT08.S1(CO)      0\n",
            "NMHC(GT)         0\n",
            "C6H6(GT)         0\n",
            "PT08.S2(NMHC)    0\n",
            "NOx(GT)          0\n",
            "PT08.S3(NOx)     0\n",
            "NO2(GT)          0\n",
            "PT08.S4(NO2)     0\n",
            "PT08.S5(O3)      0\n",
            "T                0\n",
            "RH               0\n",
            "AH               0\n",
            "dtype: int64\n",
            "__________________________________________\n",
            "Depurado tiene 9357 instancias.\n"
          ]
        }
      ],
      "source": [
        "dataset.dropna(how='all', inplace=True)  # Elimino las filas donde todos sus valores son nulos\n",
        "dataset.drop(columns=['Unnamed: 15', 'Unnamed: 16'], inplace=True) # Elimino las columnas que tienen todos sus valores nulos\n",
        "n_instancias = dataset.shape[0]\n",
        "\n",
        "print(dataset.isnull().sum()) #Números de nulos por columna\n",
        "print('_' * 42)\n",
        "print(f\"Depurado tiene {n_instancias} instancias.\") #Aparecen 9357 instancias\n"
      ],
      "id": "HKWRCS6skqK0"
    },
    {
      "cell_type": "markdown",
      "source": [
        "Hemos decidido eliminar las filas donde todos sus valores son nulos. Además eliminamos las columnas 15 y 16 cuyos valores son todos nulos. Tras depurar el dataset aparecen 9357 instancias que si coincide con lo indicado en la descripción de la web del dataset."
      ],
      "metadata": {
        "id": "hSMeMHVamIw0"
      },
      "id": "hSMeMHVamIw0"
    },
    {
      "cell_type": "code",
      "source": [
        "## ¿cuántas columnas categóricas hay? ¿y cuántas continuas?\n",
        "dataset.info() #Tipos de datos sin depurar\n",
        "print('_' * 42)\n",
        "\n",
        "conv_colum = ['CO(GT)', 'C6H6(GT)', 'T', 'RH', 'AH']\n",
        "dataset[conv_colum] = dataset[conv_colum].replace(',', '.', regex=True).astype(float)\n",
        "\n",
        "dataset.info() #Tipos de datos depurados\n"
      ],
      "metadata": {
        "colab": {
          "base_uri": "https://localhost:8080/"
        },
        "id": "fwbc5b0lllI3",
        "outputId": "bfffce1b-3925-4982-fddc-13bbae5816ec"
      },
      "id": "fwbc5b0lllI3",
      "execution_count": 5,
      "outputs": [
        {
          "output_type": "stream",
          "name": "stdout",
          "text": [
            "<class 'pandas.core.frame.DataFrame'>\n",
            "Index: 9357 entries, 0 to 9356\n",
            "Data columns (total 15 columns):\n",
            " #   Column         Non-Null Count  Dtype  \n",
            "---  ------         --------------  -----  \n",
            " 0   Date           9357 non-null   object \n",
            " 1   Time           9357 non-null   object \n",
            " 2   CO(GT)         9357 non-null   object \n",
            " 3   PT08.S1(CO)    9357 non-null   float64\n",
            " 4   NMHC(GT)       9357 non-null   float64\n",
            " 5   C6H6(GT)       9357 non-null   object \n",
            " 6   PT08.S2(NMHC)  9357 non-null   float64\n",
            " 7   NOx(GT)        9357 non-null   float64\n",
            " 8   PT08.S3(NOx)   9357 non-null   float64\n",
            " 9   NO2(GT)        9357 non-null   float64\n",
            " 10  PT08.S4(NO2)   9357 non-null   float64\n",
            " 11  PT08.S5(O3)    9357 non-null   float64\n",
            " 12  T              9357 non-null   object \n",
            " 13  RH             9357 non-null   object \n",
            " 14  AH             9357 non-null   object \n",
            "dtypes: float64(8), object(7)\n",
            "memory usage: 1.1+ MB\n",
            "__________________________________________\n",
            "<class 'pandas.core.frame.DataFrame'>\n",
            "Index: 9357 entries, 0 to 9356\n",
            "Data columns (total 15 columns):\n",
            " #   Column         Non-Null Count  Dtype  \n",
            "---  ------         --------------  -----  \n",
            " 0   Date           9357 non-null   object \n",
            " 1   Time           9357 non-null   object \n",
            " 2   CO(GT)         9357 non-null   float64\n",
            " 3   PT08.S1(CO)    9357 non-null   float64\n",
            " 4   NMHC(GT)       9357 non-null   float64\n",
            " 5   C6H6(GT)       9357 non-null   float64\n",
            " 6   PT08.S2(NMHC)  9357 non-null   float64\n",
            " 7   NOx(GT)        9357 non-null   float64\n",
            " 8   PT08.S3(NOx)   9357 non-null   float64\n",
            " 9   NO2(GT)        9357 non-null   float64\n",
            " 10  PT08.S4(NO2)   9357 non-null   float64\n",
            " 11  PT08.S5(O3)    9357 non-null   float64\n",
            " 12  T              9357 non-null   float64\n",
            " 13  RH             9357 non-null   float64\n",
            " 14  AH             9357 non-null   float64\n",
            "dtypes: float64(13), object(2)\n",
            "memory usage: 1.1+ MB\n"
          ]
        }
      ]
    },
    {
      "cell_type": "markdown",
      "source": [
        "Se observa que las columnas son de tipo object o float, aunque revisando el dataset, las columnas 'CO(GT)', 'C6H6(GT)', 'T', 'RH' y 'AH' no tiene mucho sentido que sean de tipo object y deberían ser de tipo float ya que son resultados númericos. Esta mala interpretación se debe a que sus números decimales están separados por comas en lugar de punto, por lo que no se interpretan correctamente, por ello he realizado la transformación.\n",
        "\n",
        "Cómo se vió con el código anterior:\n",
        "\n",
        "Sin depurar el dataset, hay 7 columnas tipo object y 8 de tipo float.\n",
        "Una vez depurado se obtienen 2 columnas tipo object y 13 de tipo float.\n",
        "Examinando el dataset podemos ver que tenemos 2 variables categóricas (Date y Time), mientras que el resto son variables continuas."
      ],
      "metadata": {
        "id": "UWD35UuEopV4"
      },
      "id": "UWD35UuEopV4"
    },
    {
      "cell_type": "code",
      "execution_count": 6,
      "id": "a52b4cf2",
      "metadata": {
        "id": "a52b4cf2",
        "colab": {
          "base_uri": "https://localhost:8080/"
        },
        "outputId": "6548ac2d-78c3-444d-f5be-7413214bb9f4"
      },
      "outputs": [
        {
          "output_type": "stream",
          "name": "stdout",
          "text": [
            "Date                0\n",
            "Time                0\n",
            "CO(GT)           1683\n",
            "PT08.S1(CO)       366\n",
            "NMHC(GT)         8443\n",
            "C6H6(GT)          366\n",
            "PT08.S2(NMHC)     366\n",
            "NOx(GT)          1639\n",
            "PT08.S3(NOx)      366\n",
            "NO2(GT)          1642\n",
            "PT08.S4(NO2)      366\n",
            "PT08.S5(O3)       366\n",
            "T                 366\n",
            "RH                366\n",
            "AH                366\n",
            "dtype: int64\n",
            "__________________________________________\n",
            "Date             0\n",
            "Time             0\n",
            "CO(GT)           0\n",
            "PT08.S1(CO)      0\n",
            "C6H6(GT)         0\n",
            "PT08.S2(NMHC)    0\n",
            "NOx(GT)          0\n",
            "PT08.S3(NOx)     0\n",
            "NO2(GT)          0\n",
            "PT08.S4(NO2)     0\n",
            "PT08.S5(O3)      0\n",
            "T                0\n",
            "RH               0\n",
            "AH               0\n",
            "dtype: int64\n"
          ]
        }
      ],
      "source": [
        "## ¿existen valores nulos en el dataset?\n",
        "dataset.replace(-200, np.nan, inplace=True) #Reemplazo los '-200' por NaN\n",
        "null_values = dataset.isnull().sum()\n",
        "print(null_values)\n",
        "print('_' * 42)\n",
        "\n",
        "dataset.drop(columns=['NMHC(GT)'], inplace=True) # Elimino la columna NMHC(GT) debido a un alto porcentaje de valores nulos\n",
        "\n",
        "num_col = dataset.select_dtypes(include=[np.number]).columns\n",
        "dataset[num_col] = dataset[num_col].fillna(dataset[num_col].mean()) #Cambio los NaN por la media de esa variable.\n",
        "null_values = dataset.isnull().sum()\n",
        "print(null_values)"
      ]
    },
    {
      "cell_type": "markdown",
      "id": "6a417398",
      "metadata": {
        "id": "6a417398"
      },
      "source": [
        "**Valores etiquetados como -200**\n",
        "\n",
        "Según la descripción del dataset en la web hay valores etiquetados como '-200' que indican valores faltantes, los sustituyo por NaN para después sustituirlos por la media de esa variable para tener una ligera aproximación de esos datos.\n",
        "\n",
        "Aunque se observa que para NMHC(GT), especialmente, tiene la mayoría de sus valores como -200, por lo que decido eliminarla directamente._indica aquí tu respuesta_"
      ]
    },
    {
      "cell_type": "markdown",
      "id": "b1c1fdde",
      "metadata": {
        "id": "b1c1fdde"
      },
      "source": [
        "**¿cuál es la variable respuesta?¿de qué tipo es?**\n",
        "\n",
        "\"variable objetivo\" y \"variable de respuesta\" son lo mismo en el contexto del aprendizaje automático supervisado. Ambas se refieren a la variable que se desea predecir. En inglés, se llama target variable, output variable o dependent variable.\n",
        "\n",
        "Por lo tanto, la variable objetivo/respuesta será alguna medida representativa de la calidad del aire, como por ejemplo CO(GT), C6H6(GT), o incluso una combinación de ellas si se define algún índice.\n",
        "\n",
        "Elijo como variable objetivo C6H6(GT) (benceno) de tipo float, debido a que es un indicador significativo de la calidad del aire y a que como se vio en el apartado anterior es la variable que presenta menos valores faltantes y por tanto a priori puede ofrecer una fiabilidad mayor de los datos._indica aquí tu respuesta_"
      ]
    },
    {
      "cell_type": "code",
      "execution_count": 7,
      "id": "159b126d",
      "metadata": {
        "id": "159b126d",
        "colab": {
          "base_uri": "https://localhost:8080/",
          "height": 512
        },
        "outputId": "93b9fafc-7340-41b8-e776-a97abff41fcc"
      },
      "outputs": [
        {
          "output_type": "stream",
          "name": "stdout",
          "text": [
            "            CO(GT)      NOx(GT)      NO2(GT)\n",
            "count  9357.000000  9357.000000  9357.000000\n",
            "mean      2.152750   246.896735   113.091251\n",
            "std       1.316068   193.426632    43.920954\n",
            "min       0.100000     2.000000     2.000000\n",
            "25%       1.200000   112.000000    86.000000\n",
            "50%       2.152750   229.000000   113.091251\n",
            "75%       2.600000   284.000000   133.000000\n",
            "max      11.900000  1479.000000   340.000000\n"
          ]
        },
        {
          "output_type": "display_data",
          "data": {
            "text/plain": [
              "<Figure size 1500x500 with 3 Axes>"
            ],
            "image/png": "[encoded data removed]"
          },
          "metadata": {}
        }
      ],
      "source": [
        "## Si te fijas en los estadísticos del dataset, ¿cómo es la distribución de las variables, CO, NOx y NO2?\n",
        "import matplotlib.pyplot as plt\n",
        "import pandas as pd\n",
        "\n",
        "print(dataset[['CO(GT)', 'NOx(GT)', 'NO2(GT)']].describe())\n",
        "\n",
        "columns_of_interest = ['CO(GT)', 'NOx(GT)', 'NO2(GT)']\n",
        "fig, axs = plt.subplots(nrows=1, ncols=3, figsize=(15, 5))\n",
        "\n",
        "for i, col in enumerate(columns_of_interest):\n",
        "    axs[i].hist(dataset[col], bins=30, color='blue', edgecolor='black')\n",
        "    axs[i].set_xlabel(col)\n",
        "    axs[i].set_ylabel('Frequency')\n",
        "    axs[i].grid(True)\n",
        "\n",
        "plt.tight_layout()\n",
        "plt.show()"
      ]
    },
    {
      "cell_type": "markdown",
      "id": "189880ab",
      "metadata": {
        "id": "189880ab"
      },
      "source": [
        "_indica aquí tu respuesta_"
      ]
    },
    {
      "cell_type": "markdown",
      "id": "dab9bd22",
      "metadata": {
        "id": "dab9bd22"
      },
      "source": [
        "¿Estas variables muestran alguna distribución especial?¿Tienen datos faltantes?¿y datos anómalos?"
      ]
    },
    {
      "cell_type": "markdown",
      "id": "43f922c8",
      "metadata": {
        "id": "43f922c8"
      },
      "source": [
        "_indica aquí tu respuesta_"
      ]
    },
    {
      "cell_type": "markdown",
      "source": [
        "**¿cómo son las correlaciones entre las variables del dataset?**\n",
        "\n",
        "Se observan fuertes correlaciones entre los distintos contaminantes y sus respectivos sensores, lo que sugiere que los sensores están cumpliendo su función correctamente. Sin embargo, en el caso de NOx, el sensor muestra una correlación negativa de alta magnitud con NOx y con otras variables. Esto podría ser un comportamiento esperado según el diseño del sensor o podría indicar un problema en su funcionamiento."
      ],
      "metadata": {
        "id": "3tMQPSXfvOpe"
      },
      "id": "3tMQPSXfvOpe"
    },
    {
      "cell_type": "markdown",
      "id": "3b0603eb",
      "metadata": {
        "id": "3b0603eb"
      },
      "source": [
        "_indica aquí tu respuesta_"
      ]
    },
    {
      "cell_type": "markdown",
      "id": "d3763b5c",
      "metadata": {
        "id": "d3763b5c"
      },
      "source": [
        "**¿Qué tres variables son las más correlacionadas con la variable objetivo? ¿existe alguna variable que no tenga correlación?**\n",
        "\n",
        "Las 3 variables más correlacionadas con C6H6(GT) son PT08.S5(O3), PT08.S1(CO), PT08.S2(NMHC) con 0.87, 0.88, 0.98 respectivamente.\n",
        "\n",
        "La alta correlación con PT08.S2(NMHC) se debe principalmente a que el benceno es un hidrocarburo por lo que tiene lógica.\n",
        "\n",
        "Por otro lado, la alta correlación entre CO y C6H6 pueden deberse a su origen, ya que ambos se generan por el tráfico de vehículos (recordemos que en la descripción del dataset se indica que los sensores estaban situados en una zona contaminada de una ciudad italiana).\n",
        "\n",
        "Se observa que tanto la temperatura (T) como la humedad relativa (RH) y la humedad absoluta (AH) tienen muy baja correlación en general llegando en ocasiones a ser negativa.\n",
        "Esto indica que estas 3 variables no aportan demasiado a la concentración de gases contaminantes.\n"
      ]
    },
    {
      "cell_type": "markdown",
      "source": [
        "**¿existe alguna variable que no tenga correlación?**\n",
        "\n",
        "Se observa que tanto la temperatura (T) como la humedad relativa (RH) y la humedad absoluta (AH) tienen muy baja correlación en general llegando en ocasiones a ser negativa. Esto indica que estas 3 variables no aportan demasiado a la concentración de gases contaminantes.\n",
        "\n",
        "\n"
      ],
      "metadata": {
        "id": "j1jNxMAV3gIm"
      },
      "id": "j1jNxMAV3gIm"
    },
    {
      "cell_type": "markdown",
      "id": "3f368719",
      "metadata": {
        "id": "3f368719"
      },
      "source": [
        "_indica aquí tu respuesta_"
      ]
    },
    {
      "cell_type": "markdown",
      "id": "ce7c5aa2",
      "metadata": {
        "id": "ce7c5aa2"
      },
      "source": [
        "EDA significa Análisis Exploratorio de Datos (Exploratory Data Analysis en inglés).\n",
        "\n",
        "¿Qué es EDA?\n",
        "Es una etapa inicial del análisis de datos donde se exploran, visualizan y resumen los conjuntos de datos para entender su estructura, patrones, valores atípicos, distribuciones, correlaciones y otras características clave antes de aplicar modelos más complejos o algoritmos de machine learning.\n",
        "\n",
        "En base al EDA realizado, ¿qué suposiciones se pueden hacer sobre los datos?¿qué conclusiones extraes para implementar el modelo predictivo?\n",
        "\n",
        "Los sensores están funcionando correctamente dada su correlación con las variables a medir, excepto para el caso del sensor de NOx que debería ser revisado.\n",
        "La emisión de los gases parece tener una fuente común que es el tráfico, debido a la alta correlación de C6H6(GT) y CO(GT), gases típicos producidos por vehículos.\n",
        "Hay un considerable número de valores faltantes en los gases a medir, especialmente en NMHC(GT), esto puede deberse a errores en la recopilación de los datos.\n",
        "Las variables que mostraron altas correlaciones con C6H6, como PT08.S5(O3), PT08.S1(CO), PT08.S2(NMHC), tienen que ser incluidas como características principales del modelo. Las variables con baja correlación como (T), (RH) y (AH) pueden ser obviadas ya que no aportan demasiado valor.\n",
        "Un modelo de predicción lineal puede ser una buena aproximación por la aparente relación entre C6H6 y PT08.S2(NMHC) especialmente."
      ]
    },
    {
      "cell_type": "markdown",
      "id": "cec604c3",
      "metadata": {
        "id": "cec604c3"
      },
      "source": [
        "### Regresión\n",
        "\n",
        "Para llevar a cabo la tarea de regresión deseada se pretender hacer una comparativa de varios modelos. Unos usarán el algortimo de regresión lineal, y otros realizarán la predicción haciendo uso de árboles de decisión.\n",
        "\n",
        "Para los primeros modelos hay que usar el módulo https://scikit-learn.org/stable/modules/generated/sklearn.linear_model.LinearRegression.html\n",
        "\n",
        "El algoritmo de Regresión Lineal necesita saber cuáles son las variables que va a tener en cuenta para realizar la estimación.\n",
        "\n",
        "El primero modelo que se debe construir usará una **regresión lineal simple**. Para ello sigue los siguientes pasos."
      ]
    },
    {
      "cell_type": "markdown",
      "id": "151b0658",
      "metadata": {
        "id": "151b0658"
      },
      "source": [
        "Antes de empezar con la implementación de los modelos hace falta realizar una transformación de datos, escalarlos."
      ]
    },
    {
      "cell_type": "code",
      "execution_count": 11,
      "id": "36baf00e",
      "metadata": {
        "id": "36baf00e"
      },
      "outputs": [],
      "source": [
        "# separar datos de entrenamiento y test\n",
        "from sklearn.model_selection import train_test_split\n",
        "from sklearn.preprocessing import StandardScaler\n",
        "from sklearn.linear_model import LinearRegression\n",
        "\n",
        "X = dataset[['PT08.S2(NMHC)']] # Escojo PT08.S2(NMHC) como variable predictora, ya que tenía una gran correlación con C6H6 de 0.98\n",
        "y = dataset['C6H6(GT)']        # Variable objetivo\n",
        "\n",
        "X_train, X_test, y_train, y_test = train_test_split(X, y, test_size=0.25, random_state=7) # Separo datos de entrenamiento y test\n",
        "\n",
        "# Escalado de los datos para normalizar las características y que el modelo no se vea afectado por la escala de las variables.\n",
        "scaler = StandardScaler()\n",
        "X_train = pd.DataFrame(scaler.fit_transform(X_train), columns=X_train.columns)\n",
        "X_test = pd.DataFrame(scaler.transform(X_test), columns=X_test.columns)"
      ]
    },
    {
      "cell_type": "code",
      "execution_count": 20,
      "id": "79d85a9d",
      "metadata": {
        "id": "79d85a9d"
      },
      "outputs": [],
      "source": [
        "# escoger la variable que a partir del EDA realizado, consideres que mejor va a realizar la predicción\n"
      ]
    },
    {
      "cell_type": "markdown",
      "source": [
        "La mejor variable para realizar la predicción, según el EDA realizado, es PT08.S2(NMHC) debido a su alta correlación (0.98) con la variable objetivo C6H6(GT)."
      ],
      "metadata": {
        "id": "lAfWSlNZEQew"
      },
      "id": "lAfWSlNZEQew"
    },
    {
      "cell_type": "code",
      "execution_count": 21,
      "id": "c50feba1",
      "metadata": {
        "id": "c50feba1"
      },
      "outputs": [],
      "source": [
        "# entrena el modelo con los datos de entrenamiento"
      ]
    },
    {
      "cell_type": "code",
      "execution_count": 22,
      "id": "fca81958",
      "metadata": {
        "id": "fca81958",
        "colab": {
          "base_uri": "https://localhost:8080/",
          "height": 80
        },
        "outputId": "75b35c42-c25d-48d5-f9f1-725910fc362d"
      },
      "outputs": [
        {
          "output_type": "execute_result",
          "data": {
            "text/plain": [
              "LinearRegression()"
            ],
            "text/html": [
              "<style>#sk-container-id-2 {\n",
              "  /* Definition of color scheme common for light and dark mode */\n",
              "  --sklearn-color-text: #000;\n",
              "  --sklearn-color-text-muted: #666;\n",
              "  --sklearn-color-line: gray;\n",
              "  /* Definition of color scheme for unfitted estimators */\n",
              "  --sklearn-color-unfitted-level-0: #fff5e6;\n",
              "  --sklearn-color-unfitted-level-1: #f6e4d2;\n",
              "  --sklearn-color-unfitted-level-2: #ffe0b3;\n",
              "  --sklearn-color-unfitted-level-3: chocolate;\n",
              "  /* Definition of color scheme for fitted estimators */\n",
              "  --sklearn-color-fitted-level-0: #f0f8ff;\n",
              "  --sklearn-color-fitted-level-1: #d4ebff;\n",
              "  --sklearn-color-fitted-level-2: #b3dbfd;\n",
              "  --sklearn-color-fitted-level-3: cornflowerblue;\n",
              "\n",
              "  /* Specific color for light theme */\n",
              "  --sklearn-color-text-on-default-background: var(--sg-text-color, var(--theme-code-foreground, var(--jp-content-font-color1, black)));\n",
              "  --sklearn-color-background: var(--sg-background-color, var(--theme-background, var(--jp-layout-color0, white)));\n",
              "  --sklearn-color-border-box: var(--sg-text-color, var(--theme-code-foreground, var(--jp-content-font-color1, black)));\n",
              "  --sklearn-color-icon: #696969;\n",
              "\n",
              "  @media (prefers-color-scheme: dark) {\n",
              "    /* Redefinition of color scheme for dark theme */\n",
              "    --sklearn-color-text-on-default-background: var(--sg-text-color, var(--theme-code-foreground, var(--jp-content-font-color1, white)));\n",
              "    --sklearn-color-background: var(--sg-background-color, var(--theme-background, var(--jp-layout-color0, #111)));\n",
              "    --sklearn-color-border-box: var(--sg-text-color, var(--theme-code-foreground, var(--jp-content-font-color1, white)));\n",
              "    --sklearn-color-icon: #878787;\n",
              "  }\n",
              "}\n",
              "\n",
              "#sk-container-id-2 {\n",
              "  color: var(--sklearn-color-text);\n",
              "}\n",
              "\n",
              "#sk-container-id-2 pre {\n",
              "  padding: 0;\n",
              "}\n",
              "\n",
              "#sk-container-id-2 input.sk-hidden--visually {\n",
              "  border: 0;\n",
              "  clip: rect(1px 1px 1px 1px);\n",
              "  clip: rect(1px, 1px, 1px, 1px);\n",
              "  height: 1px;\n",
              "  margin: -1px;\n",
              "  overflow: hidden;\n",
              "  padding: 0;\n",
              "  position: absolute;\n",
              "  width: 1px;\n",
              "}\n",
              "\n",
              "#sk-container-id-2 div.sk-dashed-wrapped {\n",
              "  border: 1px dashed var(--sklearn-color-line);\n",
              "  margin: 0 0.4em 0.5em 0.4em;\n",
              "  box-sizing: border-box;\n",
              "  padding-bottom: 0.4em;\n",
              "  background-color: var(--sklearn-color-background);\n",
              "}\n",
              "\n",
              "#sk-container-id-2 div.sk-container {\n",
              "  /* jupyter's `normalize.less` sets `[hidden] { display: none; }`\n",
              "     but bootstrap.min.css set `[hidden] { display: none !important; }`\n",
              "     so we also need the `!important` here to be able to override the\n",
              "     default hidden behavior on the sphinx rendered scikit-learn.org.\n",
              "     See: https://github.com/scikit-learn/scikit-learn/issues/21755 */\n",
              "  display: inline-block !important;\n",
              "  position: relative;\n",
              "}\n",
              "\n",
              "#sk-container-id-2 div.sk-text-repr-fallback {\n",
              "  display: none;\n",
              "}\n",
              "\n",
              "div.sk-parallel-item,\n",
              "div.sk-serial,\n",
              "div.sk-item {\n",
              "  /* draw centered vertical line to link estimators */\n",
              "  background-image: linear-gradient(var(--sklearn-color-text-on-default-background), var(--sklearn-color-text-on-default-background));\n",
              "  background-size: 2px 100%;\n",
              "  background-repeat: no-repeat;\n",
              "  background-position: center center;\n",
              "}\n",
              "\n",
              "/* Parallel-specific style estimator block */\n",
              "\n",
              "#sk-container-id-2 div.sk-parallel-item::after {\n",
              "  content: \"\";\n",
              "  width: 100%;\n",
              "  border-bottom: 2px solid var(--sklearn-color-text-on-default-background);\n",
              "  flex-grow: 1;\n",
              "}\n",
              "\n",
              "#sk-container-id-2 div.sk-parallel {\n",
              "  display: flex;\n",
              "  align-items: stretch;\n",
              "  justify-content: center;\n",
              "  background-color: var(--sklearn-color-background);\n",
              "  position: relative;\n",
              "}\n",
              "\n",
              "#sk-container-id-2 div.sk-parallel-item {\n",
              "  display: flex;\n",
              "  flex-direction: column;\n",
              "}\n",
              "\n",
              "#sk-container-id-2 div.sk-parallel-item:first-child::after {\n",
              "  align-self: flex-end;\n",
              "  width: 50%;\n",
              "}\n",
              "\n",
              "#sk-container-id-2 div.sk-parallel-item:last-child::after {\n",
              "  align-self: flex-start;\n",
              "  width: 50%;\n",
              "}\n",
              "\n",
              "#sk-container-id-2 div.sk-parallel-item:only-child::after {\n",
              "  width: 0;\n",
              "}\n",
              "\n",
              "/* Serial-specific style estimator block */\n",
              "\n",
              "#sk-container-id-2 div.sk-serial {\n",
              "  display: flex;\n",
              "  flex-direction: column;\n",
              "  align-items: center;\n",
              "  background-color: var(--sklearn-color-background);\n",
              "  padding-right: 1em;\n",
              "  padding-left: 1em;\n",
              "}\n",
              "\n",
              "\n",
              "/* Toggleable style: style used for estimator/Pipeline/ColumnTransformer box that is\n",
              "clickable and can be expanded/collapsed.\n",
              "- Pipeline and ColumnTransformer use this feature and define the default style\n",
              "- Estimators will overwrite some part of the style using the `sk-estimator` class\n",
              "*/\n",
              "\n",
              "/* Pipeline and ColumnTransformer style (default) */\n",
              "\n",
              "#sk-container-id-2 div.sk-toggleable {\n",
              "  /* Default theme specific background. It is overwritten whether we have a\n",
              "  specific estimator or a Pipeline/ColumnTransformer */\n",
              "  background-color: var(--sklearn-color-background);\n",
              "}\n",
              "\n",
              "/* Toggleable label */\n",
              "#sk-container-id-2 label.sk-toggleable__label {\n",
              "  cursor: pointer;\n",
              "  display: flex;\n",
              "  width: 100%;\n",
              "  margin-bottom: 0;\n",
              "  padding: 0.5em;\n",
              "  box-sizing: border-box;\n",
              "  text-align: center;\n",
              "  align-items: start;\n",
              "  justify-content: space-between;\n",
              "  gap: 0.5em;\n",
              "}\n",
              "\n",
              "#sk-container-id-2 label.sk-toggleable__label .caption {\n",
              "  font-size: 0.6rem;\n",
              "  font-weight: lighter;\n",
              "  color: var(--sklearn-color-text-muted);\n",
              "}\n",
              "\n",
              "#sk-container-id-2 label.sk-toggleable__label-arrow:before {\n",
              "  /* Arrow on the left of the label */\n",
              "  content: \"▸\";\n",
              "  float: left;\n",
              "  margin-right: 0.25em;\n",
              "  color: var(--sklearn-color-icon);\n",
              "}\n",
              "\n",
              "#sk-container-id-2 label.sk-toggleable__label-arrow:hover:before {\n",
              "  color: var(--sklearn-color-text);\n",
              "}\n",
              "\n",
              "/* Toggleable content - dropdown */\n",
              "\n",
              "#sk-container-id-2 div.sk-toggleable__content {\n",
              "  max-height: 0;\n",
              "  max-width: 0;\n",
              "  overflow: hidden;\n",
              "  text-align: left;\n",
              "  /* unfitted */\n",
              "  background-color: var(--sklearn-color-unfitted-level-0);\n",
              "}\n",
              "\n",
              "#sk-container-id-2 div.sk-toggleable__content.fitted {\n",
              "  /* fitted */\n",
              "  background-color: var(--sklearn-color-fitted-level-0);\n",
              "}\n",
              "\n",
              "#sk-container-id-2 div.sk-toggleable__content pre {\n",
              "  margin: 0.2em;\n",
              "  border-radius: 0.25em;\n",
              "  color: var(--sklearn-color-text);\n",
              "  /* unfitted */\n",
              "  background-color: var(--sklearn-color-unfitted-level-0);\n",
              "}\n",
              "\n",
              "#sk-container-id-2 div.sk-toggleable__content.fitted pre {\n",
              "  /* unfitted */\n",
              "  background-color: var(--sklearn-color-fitted-level-0);\n",
              "}\n",
              "\n",
              "#sk-container-id-2 input.sk-toggleable__control:checked~div.sk-toggleable__content {\n",
              "  /* Expand drop-down */\n",
              "  max-height: 200px;\n",
              "  max-width: 100%;\n",
              "  overflow: auto;\n",
              "}\n",
              "\n",
              "#sk-container-id-2 input.sk-toggleable__control:checked~label.sk-toggleable__label-arrow:before {\n",
              "  content: \"▾\";\n",
              "}\n",
              "\n",
              "/* Pipeline/ColumnTransformer-specific style */\n",
              "\n",
              "#sk-container-id-2 div.sk-label input.sk-toggleable__control:checked~label.sk-toggleable__label {\n",
              "  color: var(--sklearn-color-text);\n",
              "  background-color: var(--sklearn-color-unfitted-level-2);\n",
              "}\n",
              "\n",
              "#sk-container-id-2 div.sk-label.fitted input.sk-toggleable__control:checked~label.sk-toggleable__label {\n",
              "  background-color: var(--sklearn-color-fitted-level-2);\n",
              "}\n",
              "\n",
              "/* Estimator-specific style */\n",
              "\n",
              "/* Colorize estimator box */\n",
              "#sk-container-id-2 div.sk-estimator input.sk-toggleable__control:checked~label.sk-toggleable__label {\n",
              "  /* unfitted */\n",
              "  background-color: var(--sklearn-color-unfitted-level-2);\n",
              "}\n",
              "\n",
              "#sk-container-id-2 div.sk-estimator.fitted input.sk-toggleable__control:checked~label.sk-toggleable__label {\n",
              "  /* fitted */\n",
              "  background-color: var(--sklearn-color-fitted-level-2);\n",
              "}\n",
              "\n",
              "#sk-container-id-2 div.sk-label label.sk-toggleable__label,\n",
              "#sk-container-id-2 div.sk-label label {\n",
              "  /* The background is the default theme color */\n",
              "  color: var(--sklearn-color-text-on-default-background);\n",
              "}\n",
              "\n",
              "/* On hover, darken the color of the background */\n",
              "#sk-container-id-2 div.sk-label:hover label.sk-toggleable__label {\n",
              "  color: var(--sklearn-color-text);\n",
              "  background-color: var(--sklearn-color-unfitted-level-2);\n",
              "}\n",
              "\n",
              "/* Label box, darken color on hover, fitted */\n",
              "#sk-container-id-2 div.sk-label.fitted:hover label.sk-toggleable__label.fitted {\n",
              "  color: var(--sklearn-color-text);\n",
              "  background-color: var(--sklearn-color-fitted-level-2);\n",
              "}\n",
              "\n",
              "/* Estimator label */\n",
              "\n",
              "#sk-container-id-2 div.sk-label label {\n",
              "  font-family: monospace;\n",
              "  font-weight: bold;\n",
              "  display: inline-block;\n",
              "  line-height: 1.2em;\n",
              "}\n",
              "\n",
              "#sk-container-id-2 div.sk-label-container {\n",
              "  text-align: center;\n",
              "}\n",
              "\n",
              "/* Estimator-specific */\n",
              "#sk-container-id-2 div.sk-estimator {\n",
              "  font-family: monospace;\n",
              "  border: 1px dotted var(--sklearn-color-border-box);\n",
              "  border-radius: 0.25em;\n",
              "  box-sizing: border-box;\n",
              "  margin-bottom: 0.5em;\n",
              "  /* unfitted */\n",
              "  background-color: var(--sklearn-color-unfitted-level-0);\n",
              "}\n",
              "\n",
              "#sk-container-id-2 div.sk-estimator.fitted {\n",
              "  /* fitted */\n",
              "  background-color: var(--sklearn-color-fitted-level-0);\n",
              "}\n",
              "\n",
              "/* on hover */\n",
              "#sk-container-id-2 div.sk-estimator:hover {\n",
              "  /* unfitted */\n",
              "  background-color: var(--sklearn-color-unfitted-level-2);\n",
              "}\n",
              "\n",
              "#sk-container-id-2 div.sk-estimator.fitted:hover {\n",
              "  /* fitted */\n",
              "  background-color: var(--sklearn-color-fitted-level-2);\n",
              "}\n",
              "\n",
              "/* Specification for estimator info (e.g. \"i\" and \"?\") */\n",
              "\n",
              "/* Common style for \"i\" and \"?\" */\n",
              "\n",
              ".sk-estimator-doc-link,\n",
              "a:link.sk-estimator-doc-link,\n",
              "a:visited.sk-estimator-doc-link {\n",
              "  float: right;\n",
              "  font-size: smaller;\n",
              "  line-height: 1em;\n",
              "  font-family: monospace;\n",
              "  background-color: var(--sklearn-color-background);\n",
              "  border-radius: 1em;\n",
              "  height: 1em;\n",
              "  width: 1em;\n",
              "  text-decoration: none !important;\n",
              "  margin-left: 0.5em;\n",
              "  text-align: center;\n",
              "  /* unfitted */\n",
              "  border: var(--sklearn-color-unfitted-level-1) 1pt solid;\n",
              "  color: var(--sklearn-color-unfitted-level-1);\n",
              "}\n",
              "\n",
              ".sk-estimator-doc-link.fitted,\n",
              "a:link.sk-estimator-doc-link.fitted,\n",
              "a:visited.sk-estimator-doc-link.fitted {\n",
              "  /* fitted */\n",
              "  border: var(--sklearn-color-fitted-level-1) 1pt solid;\n",
              "  color: var(--sklearn-color-fitted-level-1);\n",
              "}\n",
              "\n",
              "/* On hover */\n",
              "div.sk-estimator:hover .sk-estimator-doc-link:hover,\n",
              ".sk-estimator-doc-link:hover,\n",
              "div.sk-label-container:hover .sk-estimator-doc-link:hover,\n",
              ".sk-estimator-doc-link:hover {\n",
              "  /* unfitted */\n",
              "  background-color: var(--sklearn-color-unfitted-level-3);\n",
              "  color: var(--sklearn-color-background);\n",
              "  text-decoration: none;\n",
              "}\n",
              "\n",
              "div.sk-estimator.fitted:hover .sk-estimator-doc-link.fitted:hover,\n",
              ".sk-estimator-doc-link.fitted:hover,\n",
              "div.sk-label-container:hover .sk-estimator-doc-link.fitted:hover,\n",
              ".sk-estimator-doc-link.fitted:hover {\n",
              "  /* fitted */\n",
              "  background-color: var(--sklearn-color-fitted-level-3);\n",
              "  color: var(--sklearn-color-background);\n",
              "  text-decoration: none;\n",
              "}\n",
              "\n",
              "/* Span, style for the box shown on hovering the info icon */\n",
              ".sk-estimator-doc-link span {\n",
              "  display: none;\n",
              "  z-index: 9999;\n",
              "  position: relative;\n",
              "  font-weight: normal;\n",
              "  right: .2ex;\n",
              "  padding: .5ex;\n",
              "  margin: .5ex;\n",
              "  width: min-content;\n",
              "  min-width: 20ex;\n",
              "  max-width: 50ex;\n",
              "  color: var(--sklearn-color-text);\n",
              "  box-shadow: 2pt 2pt 4pt #999;\n",
              "  /* unfitted */\n",
              "  background: var(--sklearn-color-unfitted-level-0);\n",
              "  border: .5pt solid var(--sklearn-color-unfitted-level-3);\n",
              "}\n",
              "\n",
              ".sk-estimator-doc-link.fitted span {\n",
              "  /* fitted */\n",
              "  background: var(--sklearn-color-fitted-level-0);\n",
              "  border: var(--sklearn-color-fitted-level-3);\n",
              "}\n",
              "\n",
              ".sk-estimator-doc-link:hover span {\n",
              "  display: block;\n",
              "}\n",
              "\n",
              "/* \"?\"-specific style due to the `<a>` HTML tag */\n",
              "\n",
              "#sk-container-id-2 a.estimator_doc_link {\n",
              "  float: right;\n",
              "  font-size: 1rem;\n",
              "  line-height: 1em;\n",
              "  font-family: monospace;\n",
              "  background-color: var(--sklearn-color-background);\n",
              "  border-radius: 1rem;\n",
              "  height: 1rem;\n",
              "  width: 1rem;\n",
              "  text-decoration: none;\n",
              "  /* unfitted */\n",
              "  color: var(--sklearn-color-unfitted-level-1);\n",
              "  border: var(--sklearn-color-unfitted-level-1) 1pt solid;\n",
              "}\n",
              "\n",
              "#sk-container-id-2 a.estimator_doc_link.fitted {\n",
              "  /* fitted */\n",
              "  border: var(--sklearn-color-fitted-level-1) 1pt solid;\n",
              "  color: var(--sklearn-color-fitted-level-1);\n",
              "}\n",
              "\n",
              "/* On hover */\n",
              "#sk-container-id-2 a.estimator_doc_link:hover {\n",
              "  /* unfitted */\n",
              "  background-color: var(--sklearn-color-unfitted-level-3);\n",
              "  color: var(--sklearn-color-background);\n",
              "  text-decoration: none;\n",
              "}\n",
              "\n",
              "#sk-container-id-2 a.estimator_doc_link.fitted:hover {\n",
              "  /* fitted */\n",
              "  background-color: var(--sklearn-color-fitted-level-3);\n",
              "}\n",
              "</style><div id=\"sk-container-id-2\" class=\"sk-top-container\"><div class=\"sk-text-repr-fallback\"><pre>LinearRegression()</pre><b>In a Jupyter environment, please rerun this cell to show the HTML representation or trust the notebook. <br />On GitHub, the HTML representation is unable to render, please try loading this page with nbviewer.org.</b></div><div class=\"sk-container\" hidden><div class=\"sk-item\"><div class=\"sk-estimator fitted sk-toggleable\"><input class=\"sk-toggleable__control sk-hidden--visually\" id=\"sk-estimator-id-2\" type=\"checkbox\" checked><label for=\"sk-estimator-id-2\" class=\"sk-toggleable__label fitted sk-toggleable__label-arrow\"><div><div>LinearRegression</div></div><div><a class=\"sk-estimator-doc-link fitted\" rel=\"noreferrer\" target=\"_blank\" href=\"https://scikit-learn.org/1.6/modules/generated/sklearn.linear_model.LinearRegression.html\">?<span>Documentation for LinearRegression</span></a><span class=\"sk-estimator-doc-link fitted\">i<span>Fitted</span></span></div></label><div class=\"sk-toggleable__content fitted\"><pre>LinearRegression()</pre></div> </div></div></div></div>"
            ]
          },
          "metadata": {},
          "execution_count": 22
        }
      ],
      "source": [
        "regr = LinearRegression() # Creo el modelo de regresión lineal\n",
        "regr.fit(X_train, y_train) # Entreno el modelo"
      ]
    },
    {
      "cell_type": "code",
      "execution_count": 23,
      "id": "2d84aebf",
      "metadata": {
        "id": "2d84aebf"
      },
      "outputs": [],
      "source": [
        "# ¿cuáles son los valores aprendidos por el modelo para los parámetros?"
      ]
    },
    {
      "cell_type": "code",
      "execution_count": 15,
      "id": "a26e799f",
      "metadata": {
        "id": "a26e799f",
        "colab": {
          "base_uri": "https://localhost:8080/"
        },
        "outputId": "9e93a919-2feb-4380-a355-b573eaff7a39"
      },
      "outputs": [
        {
          "output_type": "stream",
          "name": "stdout",
          "text": [
            "Coeficiente de la pendiente: [7.17259476]\n",
            "Intersección: 10.134134660367776\n"
          ]
        }
      ],
      "source": [
        "print(\"Coeficiente de la pendiente:\", regr.coef_)\n",
        "print(\"Intersección:\", regr.intercept_)"
      ]
    },
    {
      "cell_type": "markdown",
      "id": "fe08b6a5",
      "metadata": {
        "id": "fe08b6a5"
      },
      "source": [
        "Coeficiente de la pendiente: [7.17259476]\n",
        "\n",
        "Intersección: 10.134134660367776\n",
        "\n",
        "Estos parámetros indican:\n",
        "\n",
        "regr.coef_ nos dice cómo cambia la variable objetivo (Y) por cada unidad de cambio de la variable predictora (X).\n",
        "regr.intercept_ nos dice el valor de la variable objetivo (Y) cuando la variable predictora (X) es 0.Explica qué indican estos parámetros"
      ]
    },
    {
      "cell_type": "markdown",
      "id": "3a1790ad",
      "metadata": {
        "id": "3a1790ad"
      },
      "source": [
        "_indica aquí tu respuesta_"
      ]
    },
    {
      "cell_type": "code",
      "execution_count": null,
      "id": "a47f6206",
      "metadata": {
        "id": "a47f6206"
      },
      "outputs": [],
      "source": [
        "# realiza las predicciones para el conjunto de datos de test"
      ]
    },
    {
      "cell_type": "code",
      "execution_count": 16,
      "id": "fddecaad",
      "metadata": {
        "id": "fddecaad"
      },
      "outputs": [],
      "source": [
        "y_pred = regr.predict(X_test) # Realizo predicciones para los datos de test"
      ]
    },
    {
      "cell_type": "code",
      "execution_count": 17,
      "id": "29b2919f",
      "metadata": {
        "id": "29b2919f",
        "colab": {
          "base_uri": "https://localhost:8080/"
        },
        "outputId": "e3548dfb-517b-46d4-c2f3-10de55937d8a"
      },
      "outputs": [
        {
          "output_type": "stream",
          "name": "stdout",
          "text": [
            "R²: 0.9625667852253175\n",
            "MAE: 0.9865475570981763\n",
            "__________________________________________\n",
            "Promedio de la variable objetivo: 10.083105327549774\n",
            "Rango de la variable objetivo: 0.1 a 63.7\n",
            "MAE como porcentaje del promedio de la variable objetivo: 9.784163955945807 %\n"
          ]
        }
      ],
      "source": [
        "# Ahora es necesario evaluar el modelo. ¿Qué métrica es mejor utilizar en este caso?\n",
        "from sklearn.metrics import r2_score, mean_absolute_error\n",
        "\n",
        "## R² score para evaluar el modelo de regresión lineal\n",
        "r2 = r2_score(y_test, y_pred)\n",
        "print(\"R²:\", r2)\n",
        "\n",
        "# MAE para evaluar el modelo de regresión lineal\n",
        "mae = mean_absolute_error(y_test, y_pred)\n",
        "print(\"MAE:\", mae)\n",
        "\n",
        "print('_' * 42)\n",
        "\n",
        "# Comparación del MAE con la escala de la variable objetivo (y)\n",
        "print(\"Promedio de la variable objetivo:\", y.mean())\n",
        "print(\"Rango de la variable objetivo:\", y.min(), \"a\", y.max())\n",
        "print(\"MAE como porcentaje del promedio de la variable objetivo:\", (mae / y.mean()) * 100, \"%\")"
      ]
    },
    {
      "cell_type": "markdown",
      "id": "3badc9dc",
      "metadata": {
        "id": "3badc9dc"
      },
      "source": [
        "__________________________________________\n",
        "Promedio de la variable objetivo: 10.083105327549774\n",
        "\n",
        "Rango de la variable objetivo: 0.1 a 63.7\n",
        "\n",
        "MAE como porcentaje del promedio de la variable objetivo: 9.784163955945795"
      ]
    },
    {
      "cell_type": "code",
      "execution_count": 24,
      "id": "7e62392a",
      "metadata": {
        "id": "7e62392a"
      },
      "outputs": [],
      "source": [
        "# ¿Qué error tiene el modelo? Explícalo."
      ]
    },
    {
      "cell_type": "markdown",
      "id": "32a87fc5",
      "metadata": {
        "id": "32a87fc5"
      },
      "source": [
        "He calculado R² para tener una idea general de cómo de bueno/confiable es el modelo en general.\n",
        "\n",
        "Considero que la mejor métrica para este caso es el MAE debido a que es robusta frente a valores anómalos, que ya vimos que estos datos presentan en el EDA.\n",
        "\n",
        "Métrica\tValor\n",
        "\n",
        "R²\t0.9626\n",
        "\n",
        "MAE\t0.9865\n",
        "\n",
        "\n",
        "\n",
        "R²: Tiene un valor bastante alto, por lo que el modelo tiene un ajuste muy bueno, siendo capaz de explicar el 96.26% de la variabilidad en los datos de prueba.\n",
        "\n",
        "MAE: Tiene un valor muy bueno, en promedio, las predicciones del modelo son precisas y tienen un error de menos de 1 unidad en las predicciones. Comparado con el promedio de la variable objetivo (10.08), el MAE representa solo el 9.78% del promedio, lo cual indica un error relativamente bajo para la mayoría de los contextos._indica aquí tu respuesta_"
      ]
    },
    {
      "cell_type": "markdown",
      "id": "fe964d5b",
      "metadata": {
        "id": "fe964d5b"
      },
      "source": [
        "Ahora debes entrenar un segundo modelo que haga uso de una **regresión lineal múltiple** con todas las variables del dataset. Después de entrenar, realiza las predicciones para este segundo modelo.\n",
        "\n",
        "A diferencia de la Regresión Lineal Simple, este modelo de caracteriza por involucrar dos o más variables independientes (X1, X2, ...) como variables predictoras del modelo. Se trata de un modelo más complejo y difícil de interpretar.\n",
        "\n",
        "A continuación, se va a entrenar un segundo modelo que haga uso de una regresión lineal múltiple con todas las variables del dataset con el fin de poder evaluar sus resultados."
      ]
    },
    {
      "cell_type": "code",
      "execution_count": 25,
      "id": "322a1443",
      "metadata": {
        "id": "322a1443"
      },
      "outputs": [],
      "source": [
        "\n",
        "#Separación de datos y escalado\n",
        "from sklearn.model_selection import train_test_split\n",
        "from sklearn.preprocessing import StandardScaler\n",
        "from sklearn.linear_model import LinearRegression\n",
        "\n",
        "X = dataset.drop(['Date', 'Time', 'C6H6(GT)'], axis=1) # Variables predictoras (Todo el dataset sin la fecha, la hora y la variable objetivo)\n",
        "y = dataset['C6H6(GT)'] # Variable objetivo\n",
        "\n",
        "X_train, X_test, y_train, y_test = train_test_split(X, y, test_size=0.25, random_state=7) # Separo datos de entrenamiento y test\n",
        "\n",
        "# Escalado de los datos para normalizar las características y que el modelo no se vea afectado por la escala de las variables.\n",
        "scaler = StandardScaler()\n",
        "X_train_scaled = scaler.fit_transform(X_train)\n",
        "X_test_scaled = scaler.transform(X_test)"
      ]
    },
    {
      "cell_type": "code",
      "execution_count": 26,
      "id": "c0e5837f",
      "metadata": {
        "id": "c0e5837f",
        "colab": {
          "base_uri": "https://localhost:8080/"
        },
        "outputId": "1b9fc2b8-7b56-4e2c-9a7c-a126235dae97"
      },
      "outputs": [
        {
          "output_type": "stream",
          "name": "stdout",
          "text": [
            "Coeficientes: [ 0.37350287  0.30011251  7.4010983   0.45065619  0.91329771 -0.44494646\n",
            "  0.11505911 -0.12021567 -0.88774118 -0.47970447  0.52418524]\n",
            "Intersección: 10.134134660367776\n"
          ]
        }
      ],
      "source": [
        "#Creación, entrenamiento del modelo y predicciones\n",
        "regr_multi = LinearRegression() # Creo el modelo de regresión lineal múltiple\n",
        "regr_multi.fit(X_train_scaled, y_train) # Entreno el modelo\n",
        "\n",
        "print(\"Coeficientes:\", regr_multi.coef_) # Coeficientes de las variables predictoras\n",
        "print(\"Intersección:\", regr_multi.intercept_) # Intersección\n",
        "\n",
        "y_pred_multi = regr_multi.predict(X_test_scaled) # Realizo predicciones para los datos de test"
      ]
    },
    {
      "cell_type": "markdown",
      "source": [
        "Vemos como ahora hay múltiples coeficientes que representan el peso que tiene la variable predictora en cuestión\n",
        "\n"
      ],
      "metadata": {
        "id": "pCaXZv4LGQIL"
      },
      "id": "pCaXZv4LGQIL"
    },
    {
      "cell_type": "code",
      "source": [
        "#Evaluación del modelo\n",
        "\n",
        "from sklearn.metrics import r2_score, mean_absolute_error\n",
        "\n",
        "# R² score para evaluar el modelo de regresión lineal múltiple\n",
        "r2_multi = r2_score(y_test, y_pred_multi)\n",
        "\n",
        "# MAE para evaluar el modelo de regresión lineal múltiple\n",
        "mae_multi = mean_absolute_error(y_test, y_pred_multi)\n",
        "\n",
        "print(\"R²:\", r2_multi)\n",
        "print(\"MAE:\", mae_multi)\n",
        "\n",
        "print('_' * 42)\n",
        "\n",
        "# Comparación del MAE con la escala de la variable objetivo\n",
        "print(\"Promedio de la variable objetivo:\", y.mean())\n",
        "print(\"Rango de la variable objetivo:\", y.min(), \"a\", y.max())\n",
        "print(\"MAE como porcentaje del promedio de la variable objetivo:\", (mae_multi / y.mean()) * 100, \"%\")"
      ],
      "metadata": {
        "colab": {
          "base_uri": "https://localhost:8080/"
        },
        "id": "JZYZAuHcGfGV",
        "outputId": "1ac1d655-e646-404d-fed5-aaa5133df836"
      },
      "id": "JZYZAuHcGfGV",
      "execution_count": 28,
      "outputs": [
        {
          "output_type": "stream",
          "name": "stdout",
          "text": [
            "R²: 0.9735215402432124\n",
            "MAE: 0.8293691094092568\n",
            "__________________________________________\n",
            "Promedio de la variable objetivo: 10.083105327549774\n",
            "Rango de la variable objetivo: 0.1 a 63.7\n",
            "MAE como porcentaje del promedio de la variable objetivo: 8.225334184928087 %\n"
          ]
        }
      ]
    },
    {
      "cell_type": "markdown",
      "id": "9f545c06",
      "metadata": {
        "id": "9f545c06"
      },
      "source": [
        "¿Qué error tiene este modelo?¿Es mejor o peor que el anterior?"
      ]
    },
    {
      "cell_type": "markdown",
      "source": [
        "Si comparamos las medidas de error evaluadas de ambos modelos se obtiene que:\n",
        "\n",
        "Métrica\tRegresión Simple\tRegresión Múltiple\n",
        "\n",
        "R²\t0.9626\t0.9735\n",
        "\n",
        "MAE\t0.9865\t0.8293\n",
        "\n",
        "R²: Se obtiene una ligera mejoría en la regresión múltiple, por lo que en líneas generales es mejor modelo de predicción.\n",
        "\n",
        "MAE: Se obtiene un MAE menor en la regresión múltiple, lo que indica que los valores obtenidos se ajustan más a la realidad. Comparado con el promedio de la variable objetivo (10.08), este MAE representa un 8.22% del promedio, lo que indica un error más bajo que el del modelo lineal simple (9.78%).\n",
        "\n",
        "Por tanto, el modelo de Regresión Lineal Múltiple es superior en este caso, la incorporación de más variables ha resultado favorable para predecir la concentración de C6H6 ya que proporciona predicciones más precisas y fiables."
      ],
      "metadata": {
        "id": "nbS4B9x0GEHv"
      },
      "id": "nbS4B9x0GEHv"
    },
    {
      "cell_type": "markdown",
      "id": "bdf217a2",
      "metadata": {
        "id": "bdf217a2"
      },
      "source": [
        "#### Regresión con árboles de decisión\n",
        "\n",
        "A continuación, se requiere hacer dos modelos que usen árboles de decisión para realizar las predicciones.\n",
        "\n",
        "Para los árboles de decisión, al ser una tarea de regresión, hay que usar el módulo https://scikit-learn.org/stable/modules/generated/sklearn.tree.DecisionTreeRegressor.html\n",
        "\n",
        "El algoritmo de DTRegressor necesitar ajustar una serie de hiperparámetros para realizar las predicciones. La implementación de sklearn nos da mucha flexibilidad para nuestros modelos. En general, para los problemas más comunes de regresión, nos tenemos que preocupar de los siguientes hiperparámetros:\n",
        "\n",
        "* criterion\n",
        "* splitter\n",
        "* max_depth\n",
        "* min_samples_split\n",
        "* min_samples_leaf\n",
        "* max_features\n",
        "\n",
        "Indica qué son cada uno de estos hiperparámetros\n",
        "\n",
        "El algortimo de DTRegressor necesitar ajustar una serie de hiperparámetros para realizar las predicciones. En general, para los problemas más comunes de regresión, hay que preocuparse de los siguientes hiperparámetros:\n",
        "\n",
        "criterion: Utilizado para medir la calidad de una división. Soporta varios criterios para los árboles de decisión, en concreto para regresiones, los más comunes son MSE, Friedman_mse, MAE y Poisson.\n",
        "\n",
        "splitter: Es la estrategia utilizada para elegir la división en cada nodo. Las opciones disponibles son best (selecciona la mejor división) y random (elige una división al azar).\n",
        "\n",
        "max_depth: Es la profundidad máxima del árbol. Si no se especifica, los nodos se expanden hasta que todas las hojas sean puras o hasta que todas las hojas contengan menos que min_samples_split muestras.\n",
        "\n",
        "min_samples_split: El número mínimo de muestras que debe tener un nodo antes de que pueda ser dividido.\n",
        "\n",
        "min_samples_leaf: El número mínimo de muestras que debe tener una hoja del árbol. Una hoja es el nodo final de un árbol.\n",
        "\n",
        "max_features: El número de características a considerar al buscar la mejor división. Puede ser un entero, float, auto, sqrt, log2, o None.\n",
        "\n",
        "Otro hiperparámetro relevante es min_impurity_decrease.\n",
        "\n",
        "Además de los hiperparámetros que acabas de descubrir, la implementación de sklearn tiene el hiperparámetro min_impurity_decrease\n",
        "\n",
        "¿Qué indica ese parámetro? ¿Para qué puede ser útil?\n",
        "\n",
        "\n",
        "Otro hiperparámetro relevante es min_impurity_decrease.\n",
        "\n",
        "min_impurity_decrease: Establece un umbral para la reducción de la impureza, medida de cuánto debe mejorar la calidad de una división para que la división ocurra. Un nodo solo se dividirá si esta división induce una disminución de la impureza mayor o igual que el valor proporcionado como min_impurity_decrease.\n",
        "Ayuda a prevenir el overfitting\n",
        "Consigue árboles más simples y menos profundos al aumentar el umbral."
      ]
    },
    {
      "cell_type": "markdown",
      "id": "ee600bfe",
      "metadata": {
        "id": "ee600bfe"
      },
      "source": [
        "Entrena un modelo de árboles de decisión donde, el criterio para realizar las particiones sea _poisson_, la profundidad máxima de los árboles debe ser 10, el número mínimo de ejemplos para realizar una partición debe ser 10, el número mínimo de ejemplos para considerarlo una hoja debe ser 2, y el número máximo de características deben ser todas."
      ]
    },
    {
      "cell_type": "code",
      "execution_count": 34,
      "id": "0fdab3c8",
      "metadata": {
        "id": "0fdab3c8"
      },
      "outputs": [],
      "source": [
        "#Entrenamiento del modelo\n",
        "from sklearn.tree import DecisionTreeRegressor\n",
        "from sklearn.model_selection import train_test_split\n",
        "from sklearn.preprocessing import StandardScaler\n",
        "\n",
        "# Definición de variables predictoras y objetivo\n",
        "X = dataset.drop(['Date', 'Time', 'C6H6(GT)'], axis=1)  # Usar todas las variables excepto fecha, hora y objetivo\n",
        "y = dataset['C6H6(GT)']\n",
        "\n",
        "# Separación de datos en entrenamiento y prueba\n",
        "X_train, X_test, y_train, y_test = train_test_split(X, y, test_size=0.25, random_state=7)\n",
        "\n",
        "# NOTA: No es obligatorio escalar para árboles de decisión, pero si ya escalaste, igual funciona.\n",
        "scaler = StandardScaler()\n",
        "X_train_scaled = scaler.fit_transform(X_train)\n",
        "X_test_scaled = scaler.transform(X_test)\n",
        "\n",
        "# Entrenamiento del modelo cumpliendo todos los requisitos\n",
        "tree = DecisionTreeRegressor(\n",
        "    criterion='poisson',        # Criterio poisson\n",
        "    max_depth=10,               # Profundidad máxima del árbol\n",
        "    min_samples_split=10,       # Mínimo de muestras para dividir un nodo\n",
        "    min_samples_leaf=2,         # Mínimo de muestras para que un nodo sea hoja\n",
        "    max_features=None           # Se utilizan todas las características\n",
        ")\n",
        "\n",
        "# Entrenar el modelo\n",
        "tree.fit(X_train_scaled, y_train)\n",
        "\n",
        "# Realizar predicciones\n",
        "y_pred = tree.predict(X_test_scaled)\n"
      ]
    },
    {
      "cell_type": "markdown",
      "id": "026fd3c0",
      "metadata": {
        "id": "026fd3c0"
      },
      "source": [
        "Calcula MAE, R2 y RMSLE"
      ]
    },
    {
      "cell_type": "code",
      "execution_count": 36,
      "id": "8d8427d2",
      "metadata": {
        "id": "8d8427d2",
        "colab": {
          "base_uri": "https://localhost:8080/"
        },
        "outputId": "d5bdbda3-9ecc-4b97-b76f-8936589a5fb4"
      },
      "outputs": [
        {
          "output_type": "stream",
          "name": "stdout",
          "text": [
            "R²: 0.9983385175655853\n",
            "MAE: 0.021686560963133254\n",
            "RMSLE: 0.006752023670818762\n",
            "__________________________________________\n",
            "Promedio de la variable objetivo: 10.083105327549774\n",
            "Rango de la variable objetivo: 0.1 a 63.7\n",
            "MAE como porcentaje del promedio de la variable objetivo: 0.21507819524486863 %\n",
            "RMSLE como métrica relativa: 0.006752023670818762\n"
          ]
        }
      ],
      "source": [
        "#Evaluación del modelo\n",
        "from sklearn.metrics import mean_absolute_error, r2_score, mean_squared_log_error\n",
        "import numpy as np\n",
        "\n",
        "# Calculo el R² score\n",
        "r2 = r2_score(y_test, y_pred)\n",
        "print(\"R²:\", r2)\n",
        "\n",
        "# Calculo el MAE para evaluar el modelo de árbol de decisión\n",
        "mae = mean_absolute_error(y_test, y_pred)\n",
        "print(\"MAE:\", mae)\n",
        "\n",
        "# Calculo el RMSLE\n",
        "y_test_adjusted = [max(x, 1e-6) for x in y_test] # Ajusto los valores de y_test para evitar errores en el cálculo del RMSLE\n",
        "y_pred_adjusted = [max(x, 1e-6) for x in y_pred] # Ajusto los valores de y_pred para evitar errores en el cálculo del RMSLE\n",
        "rmsle = np.sqrt(mean_squared_log_error(y_test_adjusted, y_pred_adjusted)) # Calculo el RMSLE\n",
        "print(\"RMSLE:\", rmsle)\n",
        "\n",
        "print('_' * 42)\n",
        "\n",
        "# Comparación del MAE y RMSLE con el promedio de y\n",
        "print(\"Promedio de la variable objetivo:\", y.mean())\n",
        "print(\"Rango de la variable objetivo:\", y.min(), \"a\", y.max())\n",
        "print(\"MAE como porcentaje del promedio de la variable objetivo:\", (mae / y.mean()) * 100, \"%\")\n",
        "print(\"RMSLE como métrica relativa:\", rmsle)"
      ]
    },
    {
      "cell_type": "markdown",
      "source": [
        "Métrica\tValor\n",
        "\n",
        "\n",
        "\n",
        "R²: 0.9983405862691364\n",
        "MAE: 0.02123713076370187\n",
        "RMSLE: 0.006717774627808169\n",
        "\n",
        "R²: Tiene un valor extremadamente alto, siendo capaz de explicar el 99.83% de la variabilidad en los datos de prueba.\n",
        "\n",
        "MAE: Tiene un error promedio muy pequeño, lo que indica que las predicciones son muy precisas. Representa solo el 0.21% del promedio de la variable objetivo (10.08), lo cual indica un desempeño excelente.\n",
        "\n",
        "RMSLE: Tiene un valor realmente pequeño también, lo que sugiere que el modelo predice con gran precisión incluso para valores pequeños o en rangos amplios de C6H6(GT). En general, un RMSLE menor de 0.02 es considerado excelente."
      ],
      "metadata": {
        "id": "wdc7fqi8S7OT"
      },
      "id": "wdc7fqi8S7OT"
    },
    {
      "cell_type": "markdown",
      "id": "995d4579",
      "metadata": {
        "id": "995d4579"
      },
      "source": [
        "¿Existe overfitting? Indica qué debes hacer para comprobar si hay overfitting."
      ]
    },
    {
      "cell_type": "markdown",
      "source": [
        "Este fenómeno ocurre cuando el modelo se ajusta demasiado a los datos de entrenamiento, perdiendo la capacidad de generalizar en datos nuevos.\n",
        "\n",
        "Es posible que exista overfitting ya que los resultados obtenidos en su evaluación son realmente buenos, aunque los modelos de regresión anteriores ya lo eran también. Para comprobar si hay overfitting se puede:\n",
        "\n",
        "Hacer una comparación de métricas de rendimiento entre los conjuntos de entrenamiento y test.\n",
        "Hacer una validación cruzada.\n",
        "Hacer un proceso de poda, es decir, se juega con los hiperparámetros para ver si hay un cambio sustancial en los resultados.\n",
        "A continuación se realizarán estas técnicas para comprobar la existencia de overfitting en el modelo.\n",
        "\n",
        "Comparación de métricas de rendimiento entre los conjuntos de entrenamiento y test\n",
        "Algunos indicadores de overfitting son:\n",
        "\n",
        "Un R² (entrenamiento) mucho mayor que el R² (test) sugiere que el modelo está ajustándose demasiado a los datos de entrenamiento y no generaliza bien.\n",
        "Valores de R² (entrenamiento) de 1.0 indican que el modelo está aprendiendo incluso el ruido de los datos, lo cual puede no ser deseable.\n",
        "Si el MAE o RMSLE en el conjunto de prueba son notablemente mayores que en el entrenamiento, es otra señal de overfitting."
      ],
      "metadata": {
        "id": "MpDt82fGTJJn"
      },
      "id": "MpDt82fGTJJn"
    },
    {
      "cell_type": "code",
      "source": [
        "# Predicciones en los datos de entrenamiento\n",
        "y_train_pred = tree.predict(X_train_scaled)\n",
        "\n",
        "# Evaluación en los datos de entrenamiento\n",
        "mae_train = mean_absolute_error(y_train, y_train_pred)\n",
        "print(\"MAE (entrenamiento):\", mae_train)\n",
        "\n",
        "r2_train = r2_score(y_train, y_train_pred)\n",
        "print(\"R² (entrenamiento):\", r2_train)\n",
        "\n",
        "y_train_adjusted = [max(x, 1e-6) for x in y_train]\n",
        "y_train_pred_adjusted = [max(x, 1e-6) for x in y_train_pred]\n",
        "rmsle_train = np.sqrt(mean_squared_log_error(y_train_adjusted, y_train_pred_adjusted))\n",
        "print(\"RMSLE (entrenamiento):\", rmsle_train)\n",
        "\n",
        "# Evaluación en los datos de test\n",
        "print(\"\\nMAE (test):\", mae)\n",
        "print(\"R² (test):\", r2)\n",
        "print(\"RMSLE (test):\", rmsle)\n",
        "\n",
        "#Comparación entre entrenamiento y test para evaluar el sobreajuste del modelo\n",
        "print(\"\\nComparación entre entrenamiento y test:\")\n",
        "print(\"Diferencia MAE:\", mae_train - mae)\n",
        "print(\"Diferencia R²:\", r2_train - r2)\n",
        "print(\"Diferencia RMSLE:\", rmsle_train - rmsle)"
      ],
      "metadata": {
        "colab": {
          "base_uri": "https://localhost:8080/"
        },
        "id": "R91r51N_U6Lg",
        "outputId": "243ccf91-fa5f-4a1f-aebf-323b499cffd4"
      },
      "id": "R91r51N_U6Lg",
      "execution_count": 37,
      "outputs": [
        {
          "output_type": "stream",
          "name": "stdout",
          "text": [
            "MAE (entrenamiento): 0.009462644895863213\n",
            "R² (entrenamiento): 0.9999251189949834\n",
            "RMSLE (entrenamiento): 0.002722403507229118\n",
            "\n",
            "MAE (test): 0.021686560963133254\n",
            "R² (test): 0.9983385175655853\n",
            "RMSLE (test): 0.006752023670818762\n",
            "\n",
            "Comparación entre entrenamiento y test:\n",
            "Diferencia MAE: -0.012223916067270042\n",
            "Diferencia R²: 0.001586601429398038\n",
            "Diferencia RMSLE: -0.004029620163589644\n"
          ]
        }
      ]
    },
    {
      "cell_type": "markdown",
      "source": [
        "Incorporando validación cruzada al modelo\n",
        "Con la validación cruzada se busca dividir los datos en \"𝑘\" conjuntos (pliegues) para entrenar y evaluar el modelo en diferentes combinaciones de estos datos. Cada pliegue sirve como un conjunto de validación una vez, mientras que los 𝑘−1 pliegues restantes se usan como el conjunto de entrenamiento. El proceso se repite 𝑘 veces, cambiando en cada iteración cuál pliegue se usa como conjunto de validación.\n",
        "\n",
        "Esto permite que cada punto del dataset sea usado tanto para entrenar como para validar el modelo."
      ],
      "metadata": {
        "id": "xjKJ7wfvZDkl"
      },
      "id": "xjKJ7wfvZDkl"
    },
    {
      "cell_type": "code",
      "source": [
        "from sklearn.model_selection import cross_val_score\n",
        "\n",
        "X = dataset.drop(['Date', 'Time', 'C6H6(GT)'], axis=1) # Variables predictoras (Todo el dataset sin la fecha, la hora y la variable objetivo)\n",
        "y = dataset['C6H6(GT)'] # Variable objetivo\n",
        "\n",
        "X_train, X_test, y_train, y_test = train_test_split(X, y, test_size=0.25, random_state=7) # Separo datos de entrenamiento y test\n",
        "\n",
        "# Escalo los datos de entrenamiento y test\n",
        "scaler = StandardScaler()\n",
        "X_train_scaled = scaler.fit_transform(X_train)\n",
        "X_test_scaled = scaler.transform(X_test)\n",
        "\n",
        "# Creo el modelo de árbol de decisión\n",
        "tree = DecisionTreeRegressor(\n",
        "    criterion='poisson',    # Criterio de Poisson\n",
        "    max_depth=7,           # Profundidad máxima del árbol\n",
        "    min_samples_split=5,   # Mínimo de muestras para dividir un nodo\n",
        "    min_samples_leaf=2,     # Mínimo de muestras para ser una hoja\n",
        "    max_features=None       # Se usan todas las características\n",
        ")\n",
        "\n",
        "#------------------------------------------\n",
        "# Validación cruzada con 5 pliegues\n",
        "scores_r2 = cross_val_score(tree, X_train_scaled, y_train, cv=5, scoring='r2')  # R²\n",
        "scores_mae = cross_val_score(tree, X_train_scaled, y_train, cv=5, scoring='neg_mean_absolute_error')  # MAE (negativo)\n",
        "\n",
        "# Convierto MAE a positivo porque cross_val_score devuelve valores negativos para métricas de error\n",
        "scores_mae = -scores_mae\n",
        "\n",
        "# Resultados de validación cruzada\n",
        "print(\"Validación cruzada R² por pliegue:\", scores_r2)\n",
        "print(\"Promedio de R² (validación cruzada):\", np.mean(scores_r2))\n",
        "print(\"Desviación estándar de R²:\", np.std(scores_r2))\n",
        "print('_' * 42)\n",
        "print(\"Validación cruzada MAE por pliegue:\", scores_mae)\n",
        "print(\"Promedio de MAE (validación cruzada):\", np.mean(scores_mae))\n",
        "print(\"Desviación estándar de MAE:\", np.std(scores_mae))\n",
        "#------------------------------------------\n",
        "\n",
        "tree.fit(X_train_scaled, y_train) # Entreno el modelo\n",
        "\n",
        "y_pred = tree.predict(X_test_scaled) # Realizo predicciones para los datos de test\n",
        "\n",
        "# Métricas en el conjunto de test\n",
        "r2 = r2_score(y_test, y_pred)\n",
        "mae = mean_absolute_error(y_test, y_pred)\n",
        "y_test_adjusted = [max(x, 1e-6) for x in y_test]\n",
        "y_pred_adjusted = [max(x, 1e-6) for x in y_pred]\n",
        "rmsle = np.sqrt(mean_squared_log_error(y_test_adjusted, y_pred_adjusted))\n",
        "\n",
        "print('_' * 42)\n",
        "print(\"Evaluación en el conjunto de test:\")\n",
        "print(\"R²:\", r2)\n",
        "print(\"MAE:\", mae)\n",
        "print(\"RMSLE:\", rmsle)\n",
        "\n",
        "print('_' * 42)\n",
        "\n",
        "# Comparación del MAE y RMSLE con el promedio de y\n",
        "print(\"Promedio de la variable objetivo:\", y.mean())\n",
        "print(\"Rango de la variable objetivo:\", y.min(), \"a\", y.max())\n",
        "print(\"MAE como porcentaje del promedio de la variable objetivo:\", (mae / y.mean()) * 100, \"%\")\n",
        "print(\"RMSLE como métrica relativa:\", rmsle)"
      ],
      "metadata": {
        "id": "ri8oP4_WY0FQ"
      },
      "id": "ri8oP4_WY0FQ",
      "execution_count": null,
      "outputs": []
    },
    {
      "cell_type": "code",
      "source": [
        "from sklearn.model_selection import cross_val_score\n",
        "\n",
        "X = dataset.drop(['Date', 'Time', 'C6H6(GT)'], axis=1) # Variables predictoras (Todo el dataset sin la fecha, la hora y la variable objetivo)\n",
        "y = dataset['C6H6(GT)'] # Variable objetivo\n",
        "\n",
        "X_train, X_test, y_train, y_test = train_test_split(X, y, test_size=0.25, random_state=7) # Separo datos de entrenamiento y test\n",
        "\n",
        "# Escalo los datos de entrenamiento y test\n",
        "scaler = StandardScaler()\n",
        "X_train_scaled = scaler.fit_transform(X_train)\n",
        "X_test_scaled = scaler.transform(X_test)\n",
        "\n",
        "# Creo el modelo de árbol de decisión\n",
        "tree = DecisionTreeRegressor(\n",
        "    criterion='poisson',    # Criterio de Poisson\n",
        "    max_depth=7,           # Profundidad máxima del árbol\n",
        "    min_samples_split=5,   # Mínimo de muestras para dividir un nodo\n",
        "    min_samples_leaf=2,     # Mínimo de muestras para ser una hoja\n",
        "    max_features=None       # Se usan todas las características\n",
        ")\n",
        "\n",
        "#------------------------------------------\n",
        "# Validación cruzada con 5 pliegues\n",
        "scores_r2 = cross_val_score(tree, X_train_scaled, y_train, cv=5, scoring='r2')  # R²\n",
        "scores_mae = cross_val_score(tree, X_train_scaled, y_train, cv=5, scoring='neg_mean_absolute_error')  # MAE (negativo)\n",
        "\n",
        "# Convierto MAE a positivo porque cross_val_score devuelve valores negativos para métricas de error\n",
        "scores_mae = -scores_mae\n",
        "\n",
        "# Resultados de validación cruzada\n",
        "print(\"Validación cruzada R² por pliegue:\", scores_r2)\n",
        "print(\"Promedio de R² (validación cruzada):\", np.mean(scores_r2))\n",
        "print(\"Desviación estándar de R²:\", np.std(scores_r2))\n",
        "print('_' * 42)\n",
        "print(\"Validación cruzada MAE por pliegue:\", scores_mae)\n",
        "print(\"Promedio de MAE (validación cruzada):\", np.mean(scores_mae))\n",
        "print(\"Desviación estándar de MAE:\", np.std(scores_mae))\n",
        "#------------------------------------------\n",
        "\n",
        "tree.fit(X_train_scaled, y_train) # Entreno el modelo\n",
        "\n",
        "y_pred = tree.predict(X_test_scaled) # Realizo predicciones para los datos de test\n",
        "\n",
        "# Métricas en el conjunto de test\n",
        "r2 = r2_score(y_test, y_pred)\n",
        "mae = mean_absolute_error(y_test, y_pred)\n",
        "y_test_adjusted = [max(x, 1e-6) for x in y_test]\n",
        "y_pred_adjusted = [max(x, 1e-6) for x in y_pred]\n",
        "rmsle = np.sqrt(mean_squared_log_error(y_test_adjusted, y_pred_adjusted))\n",
        "\n",
        "print('_' * 42)\n",
        "print(\"Evaluación en el conjunto de test:\")\n",
        "print(\"R²:\", r2)\n",
        "print(\"MAE:\", mae)\n",
        "print(\"RMSLE:\", rmsle)\n",
        "\n",
        "print('_' * 42)\n",
        "\n",
        "# Comparación del MAE y RMSLE con el promedio de y\n",
        "print(\"Promedio de la variable objetivo:\", y.mean())\n",
        "print(\"Rango de la variable objetivo:\", y.min(), \"a\", y.max())\n",
        "print(\"MAE como porcentaje del promedio de la variable objetivo:\", (mae / y.mean()) * 100, \"%\")\n",
        "print(\"RMSLE como métrica relativa:\", rmsle)"
      ],
      "metadata": {
        "colab": {
          "base_uri": "https://localhost:8080/"
        },
        "id": "J7RIw4gwZOM0",
        "outputId": "8718009d-d569-41f3-a8da-f0fdd162e657"
      },
      "id": "J7RIw4gwZOM0",
      "execution_count": 38,
      "outputs": [
        {
          "output_type": "stream",
          "name": "stdout",
          "text": [
            "Validación cruzada R² por pliegue: [0.99981113 0.99888851 0.99959634 0.99978799 0.99961954]\n",
            "Promedio de R² (validación cruzada): 0.9995407042382304\n",
            "Desviación estándar de R²: 0.00033732699773706955\n",
            "__________________________________________\n",
            "Validación cruzada MAE por pliegue: [0.0621861  0.07570986 0.06637441 0.06971426 0.07219154]\n",
            "Promedio de MAE (validación cruzada): 0.0692352351127383\n",
            "Desviación estándar de MAE: 0.004664002170084874\n",
            "__________________________________________\n",
            "Evaluación en el conjunto de test:\n",
            "R²: 0.9984289870618961\n",
            "MAE: 0.0714760502150045\n",
            "RMSLE: 0.010836396440582903\n",
            "__________________________________________\n",
            "Promedio de la variable objetivo: 10.083105327549774\n",
            "Rango de la variable objetivo: 0.1 a 63.7\n",
            "MAE como porcentaje del promedio de la variable objetivo: 0.7088694196192971 %\n",
            "RMSLE como métrica relativa: 0.010836396440582903\n"
          ]
        }
      ]
    },
    {
      "cell_type": "markdown",
      "source": [
        "Comparando los resultados obtenidos se puede ver que el conjunto de test es muy similar al de validación cruzada, lo que indica que el modelo generaliza bien y no tiene un problema significativo de overfitting.\n",
        "\n",
        "Proceso de poda (experimentar con los hiperparámetros)\n",
        "Para realizar una poda en el árbol y comprobar si existe overfitting, se puede experimentar con los hiperparámetros que controlan su complejidad. Estos hiperparámetros permiten limitar la profundidad del árbol o la cantidad mínima de datos necesarios para dividir nodos o formar hojas, evitando que el modelo se ajuste demasiado a los datos de entrenamiento.\n",
        "\n",
        "max_depth\n",
        "min_samples_split\n",
        "min_samples_leaf\n",
        "max_features\n"
      ],
      "metadata": {
        "id": "P2ei7tuRZq0q"
      },
      "id": "P2ei7tuRZq0q"
    },
    {
      "cell_type": "code",
      "source": [
        "X = dataset.drop(['Date', 'Time', 'C6H6(GT)'], axis=1) # Variables predictoras (Todo el dataset sin la fecha, la hora y la variable objetivo)\n",
        "y = dataset['C6H6(GT)'] # Variable objetivo\n",
        "\n",
        "X_train, X_test, y_train, y_test = train_test_split(X, y, test_size=0.25, random_state=7) # Separo datos de entrenamiento y test\n",
        "\n",
        "# Escalado de los datos para normalizar las características y que el modelo no se vea afectado por la escala de las variables.\n",
        "scaler = StandardScaler()\n",
        "X_train_scaled = scaler.fit_transform(X_train)\n",
        "X_test_scaled = scaler.transform(X_test)\n",
        "\n",
        "#------------------------------------------\n",
        "# Función para evaluar el modelo probando diferentes hiperparámetros\n",
        "\n",
        "def evaluate_tree(max_depth, min_samples_split, min_samples_leaf):\n",
        "    # Creo el modelo de árbol con los hiperparámetros específicos\n",
        "    tree = DecisionTreeRegressor(\n",
        "        criterion='poisson',\n",
        "        max_depth=max_depth,\n",
        "        min_samples_split=min_samples_split,\n",
        "        min_samples_leaf=min_samples_leaf\n",
        "    )\n",
        "    tree.fit(X_train_scaled, y_train)  # Entreno el modelo\n",
        "\n",
        "    y_train_pred = tree.predict(X_train_scaled) # Realizo predicciones para los datos de entrenamiento\n",
        "    y_test_pred = tree.predict(X_test_scaled) # Realizo predicciones para los datos de test\n",
        "\n",
        "    # Evaluación en entrenamiento\n",
        "    mae_train = mean_absolute_error(y_train, y_train_pred)\n",
        "    r2_train = r2_score(y_train, y_train_pred)\n",
        "    y_train_adjusted = [max(x, 1e-6) for x in y_train]\n",
        "    y_train_pred_adjusted = [max(x, 1e-6) for x in y_train_pred]\n",
        "    rmsle_train = np.sqrt(mean_squared_log_error(y_train_adjusted, y_train_pred_adjusted))\n",
        "\n",
        "    # Evaluación en test\n",
        "    mae_test = mean_absolute_error(y_test, y_test_pred)\n",
        "    r2_test = r2_score(y_test, y_test_pred)\n",
        "    y_test_adjusted = [max(x, 1e-6) for x in y_test]\n",
        "    y_test_pred_adjusted = [max(x, 1e-6) for x in y_test_pred]\n",
        "    rmsle_test = np.sqrt(mean_squared_log_error(y_test_adjusted, y_test_pred_adjusted))\n",
        "\n",
        "    # Imprimo los resultados\n",
        "    print(f\"max_depth={max_depth}, min_samples_split={min_samples_split}, min_samples_leaf={min_samples_leaf}\")\n",
        "    print(f\"  MAE (entrenamiento): {mae_train:.4f}, R² (entrenamiento): {r2_train:.4f}, RMSLE (entrenamiento): {rmsle_train:.4f}\")\n",
        "    print(f\"  MAE (test): {mae_test:.4f}, R² (test): {r2_test:.4f}, RMSLE (test): {rmsle_test:.4f}\")\n",
        "    print(\"_\" * 50)\n",
        "\n",
        "# Pruebo diferentes configuraciones de hiperparámetros\n",
        "for max_depth in [5, 7, 10]:\n",
        "    for min_samples_split in [5, 10]:\n",
        "        for min_samples_leaf in [2, 5]:\n",
        "            evaluate_tree(max_depth, min_samples_split, min_samples_leaf) # Llamo a la función para evaluar el modelo\n",
        "#------------------------------------------"
      ],
      "metadata": {
        "colab": {
          "base_uri": "https://localhost:8080/"
        },
        "id": "3LyxlYyZZ3pn",
        "outputId": "5ba366d7-3c9b-48f7-b180-5fb624165887"
      },
      "id": "3LyxlYyZZ3pn",
      "execution_count": 40,
      "outputs": [
        {
          "output_type": "stream",
          "name": "stdout",
          "text": [
            "max_depth=5, min_samples_split=5, min_samples_leaf=2\n",
            "  MAE (entrenamiento): 0.2552, R² (entrenamiento): 0.9973, RMSLE (entrenamiento): 0.0352\n",
            "  MAE (test): 0.2643, R² (test): 0.9948, RMSLE (test): 0.0369\n",
            "__________________________________________________\n",
            "max_depth=5, min_samples_split=5, min_samples_leaf=5\n",
            "  MAE (entrenamiento): 0.2552, R² (entrenamiento): 0.9973, RMSLE (entrenamiento): 0.0352\n",
            "  MAE (test): 0.2643, R² (test): 0.9948, RMSLE (test): 0.0369\n",
            "__________________________________________________\n",
            "max_depth=5, min_samples_split=10, min_samples_leaf=2\n",
            "  MAE (entrenamiento): 0.2552, R² (entrenamiento): 0.9973, RMSLE (entrenamiento): 0.0352\n",
            "  MAE (test): 0.2643, R² (test): 0.9948, RMSLE (test): 0.0369\n",
            "__________________________________________________\n",
            "max_depth=5, min_samples_split=10, min_samples_leaf=5\n",
            "  MAE (entrenamiento): 0.2552, R² (entrenamiento): 0.9973, RMSLE (entrenamiento): 0.0352\n",
            "  MAE (test): 0.2643, R² (test): 0.9948, RMSLE (test): 0.0369\n",
            "__________________________________________________\n",
            "max_depth=7, min_samples_split=5, min_samples_leaf=2\n",
            "  MAE (entrenamiento): 0.0613, R² (entrenamiento): 0.9998, RMSLE (entrenamiento): 0.0089\n",
            "  MAE (test): 0.0701, R² (test): 0.9985, RMSLE (test): 0.0107\n",
            "__________________________________________________\n",
            "max_depth=7, min_samples_split=5, min_samples_leaf=5\n",
            "  MAE (entrenamiento): 0.0619, R² (entrenamiento): 0.9998, RMSLE (entrenamiento): 0.0090\n",
            "  MAE (test): 0.0711, R² (test): 0.9982, RMSLE (test): 0.0110\n",
            "__________________________________________________\n",
            "max_depth=7, min_samples_split=10, min_samples_leaf=2\n",
            "  MAE (entrenamiento): 0.0619, R² (entrenamiento): 0.9998, RMSLE (entrenamiento): 0.0090\n",
            "  MAE (test): 0.0711, R² (test): 0.9982, RMSLE (test): 0.0110\n",
            "__________________________________________________\n",
            "max_depth=7, min_samples_split=10, min_samples_leaf=5\n",
            "  MAE (entrenamiento): 0.0619, R² (entrenamiento): 0.9998, RMSLE (entrenamiento): 0.0090\n",
            "  MAE (test): 0.0711, R² (test): 0.9982, RMSLE (test): 0.0110\n",
            "__________________________________________________\n",
            "max_depth=10, min_samples_split=5, min_samples_leaf=2\n",
            "  MAE (entrenamiento): 0.0051, R² (entrenamiento): 1.0000, RMSLE (entrenamiento): 0.0020\n",
            "  MAE (test): 0.0200, R² (test): 0.9986, RMSLE (test): 0.0065\n",
            "__________________________________________________\n",
            "max_depth=10, min_samples_split=5, min_samples_leaf=5\n",
            "  MAE (entrenamiento): 0.0108, R² (entrenamiento): 0.9999, RMSLE (entrenamiento): 0.0029\n",
            "  MAE (test): 0.0215, R² (test): 0.9983, RMSLE (test): 0.0066\n",
            "__________________________________________________\n",
            "max_depth=10, min_samples_split=10, min_samples_leaf=2\n",
            "  MAE (entrenamiento): 0.0095, R² (entrenamiento): 0.9999, RMSLE (entrenamiento): 0.0027\n",
            "  MAE (test): 0.0217, R² (test): 0.9983, RMSLE (test): 0.0067\n",
            "__________________________________________________\n",
            "max_depth=10, min_samples_split=10, min_samples_leaf=5\n",
            "  MAE (entrenamiento): 0.0108, R² (entrenamiento): 0.9999, RMSLE (entrenamiento): 0.0029\n",
            "  MAE (test): 0.0216, R² (test): 0.9983, RMSLE (test): 0.0067\n",
            "__________________________________________________\n"
          ]
        }
      ]
    },
    {
      "cell_type": "markdown",
      "source": [
        "Analizando los resultados:\n",
        "\n",
        "Para max_depth = 5 -> Las métricas son muy similares entre entrenamiento y test. Esto sugiere que el modelo generaliza bien. No hay indicios de overfitting con esta configuración.\n",
        "\n",
        "Para max_depth = 7 -> Las métricas de prueba son ligeramente inferiores a las de entrenamiento, pero las diferencias son pequeñas. El modelo está capturando mejor la complejidad de los datos que con max_depth=5, con un menor error absoluto y relativo. No hay indicios claros de overfitting.\n",
        "\n",
        "Para max_depth = 10 -> El R² en entrenamiento es perfecto (1), lo que indica que el modelo está ajustándose completamente a los datos de entrenamiento, capturando incluso el ruido. Aunque las métricas en prueba siguen siendo excelentes, las diferencias con las de entrenamiento son más notables, lo que es un indicio de leve overfitting.\n",
        "\n",
        "Por tanto, de las 3 opciones evaluadas max_depth = 7 es la que tiene mejor equilibrio entre ajuste y generalización."
      ],
      "metadata": {
        "id": "nuqwO0hDdX6H"
      },
      "id": "nuqwO0hDdX6H"
    },
    {
      "cell_type": "markdown",
      "id": "fddad551",
      "metadata": {
        "id": "fddad551"
      },
      "source": [
        "¿Este modelo es mejor, peor o igual que los de regresión lineal simple y múltiple? Razona tu respuesta."
      ]
    },
    {
      "cell_type": "markdown",
      "source": [
        "Analizando los resultados:\n",
        "\n",
        "Para max_depth = 5 -> Las métricas son muy similares entre entrenamiento y test. Esto sugiere que el modelo generaliza bien. No hay indicios de overfitting con esta configuración.\n",
        "\n",
        "Para max_depth = 7 -> Las métricas de prueba son ligeramente inferiores a las de entrenamiento, pero las diferencias son pequeñas. El modelo está capturando mejor la complejidad de los datos que con max_depth=5, con un menor error absoluto y relativo. No hay indicios claros de overfitting.\n",
        "\n",
        "Para max_depth = 10 -> El R² en entrenamiento es perfecto (1), lo que indica que el modelo está ajustándose completamente a los datos de entrenamiento, capturando incluso el ruido. Aunque las métricas en prueba siguen siendo excelentes, las diferencias con las de entrenamiento son más notables, lo que es un indicio de leve overfitting.\n",
        "\n",
        "Por tanto, de las 3 opciones evaluadas max_depth = 7 es la que tiene mejor equilibrio entre ajuste y generalización."
      ],
      "metadata": {
        "id": "lHl_L_UbZ8mq"
      },
      "id": "lHl_L_UbZ8mq"
    },
    {
      "cell_type": "markdown",
      "id": "e615537e",
      "metadata": {
        "id": "e615537e"
      },
      "source": [
        "Con base en los experimentos presentados, el modelo de árbol de decisión es claramente mejor que los modelos de regresión lineal simple y múltiple, por las siguientes razones:\n",
        "\n",
        "📊 1. Métricas de rendimiento del árbol de decisión:\n",
        "R² = 0.9983 → El modelo explica el 99.83% de la variabilidad de la variable objetivo, lo cual indica un ajuste casi perfecto.\n",
        "\n",
        "MAE = 0.0212 → Error absoluto medio muy bajo, lo que indica predicciones muy cercanas a los valores reales.\n",
        "\n",
        "RMSLE = 0.0067 → Error logarítmico bajo, ideal para valores que pueden variar en varios órdenes de magnitud.\n",
        "\n",
        "📉 2. Comparación con regresión lineal simple y múltiple:\n",
        "Los modelos de regresión lineal simple y múltiple tienden a tener R² significativamente menores, típicamente por debajo de 0.9 en problemas no lineales o con múltiples interacciones entre variables.\n",
        "\n",
        "La linealidad impuesta por estos modelos limita su capacidad para capturar relaciones complejas entre variables.\n",
        "\n",
        "Aunque más simples y fáciles de interpretar, sus errores suelen ser más altos (mayores MAE y RMSLE) si el comportamiento de los datos no es lineal.\n",
        "\n",
        "🌳 3. Ventajas del árbol de decisión en este caso:\n",
        "Captura relaciones no lineales y interacciones entre variables de forma natural.\n",
        "\n",
        "Es robusto ante valores atípicos.\n",
        "\n",
        "Ofrece explicabilidad y decisiones basadas en umbrales reales de las variables predictoras.\n",
        "\n",
        "✅ Conclusión:\n",
        "El modelo de árbol de decisión supera en precisión y capacidad de generalización a los modelos de regresión lineal simple y múltiple en este conjunto de datos. Por tanto, es mejor en términos de rendimiento y adecuación al problema."
      ]
    },
    {
      "cell_type": "markdown",
      "id": "cbe59d0d",
      "metadata": {
        "id": "cbe59d0d"
      },
      "source": [
        "**Comparativa**\n",
        "\n",
        "En base al EDA realizado, a las decisiones tomadas sobre los datos e hiperparámetros y a las características computacionales de tu equipo. ¿Qué modelo obtiene mejores resultados de regresión?"
      ]
    },
    {
      "cell_type": "markdown",
      "source": [
        "![image.png](data:image/png;base64,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)"
      ],
      "metadata": {
        "id": "r1lX8_dsXVrQ"
      },
      "id": "r1lX8_dsXVrQ"
    },
    {
      "cell_type": "markdown",
      "source": [
        "Con base en los resultados presentados, el modelo de árbol de decisión supera tanto a la regresión lineal simple como a la múltiple en todos los indicadores evaluados:\n",
        "\n",
        "R² (0.9983): Explica casi toda la variabilidad de la variable objetivo. Significativamente superior a los modelos lineales.\n",
        "\n",
        "MAE (0.0212): Error promedio extremadamente bajo, mostrando que las predicciones están muy cerca de los valores reales.\n",
        "\n",
        "RMSLE (0.0067): Indica una excelente precisión, incluso en valores pequeños, mejor que cualquier modelo lineal probado.\n",
        "\n",
        "Conclusión:\n",
        "El modelo de árbol de decisión es claramente mejor que los modelos de regresión lineal simple y múltiple en este caso. Su capacidad para capturar relaciones no lineales y realizar particiones precisas en los datos proporciona un ajuste superior.\n",
        "\n",
        "\n",
        "\n",
        "¿Ha sido relevante el EDA?\n",
        "\n",
        "El Análisis Exploratorio de Datos (EDA) ha sido crucial en este proceso, ya que permitió una preparación adecuada de los datos, la detección de valores atípicos, la identificación de datos faltantes y una comprensión más profunda de la distribución y correlaciones entre las variables. Gracias al EDA, se pudieron tomar decisiones fundamentadas, como la selección de la variable objetivo y la identificación de las variables predictoras más relevantes para la modelización.\n",
        "\n",
        "¿Qué modelo se ha comportado mejor? ¿Regresión lineal simple, múltiple o árboles de decisión?\n",
        "\n",
        "A continuación, se presentan los resultados de evaluación de cada uno de los modelos entrenados:\n",
        "\n",
        "Modelo\tR²\tMAE\tRMSLE\n",
        "Regresión Lineal Simple\t0.9626\t0.9865\tN/A\n",
        "Regresión Lineal Múltiple\t0.9735\t0.8293\tN/A\n",
        "Árbol de Decisión\t0.9983\t0.0217\t0.0068\n",
        "\n",
        "Los modelos de regresión lineal, tanto simple como múltiple, mostraron buenos resultados, siendo la regresión lineal múltiple ligeramente superior debido a su mejor rendimiento en términos de R² y MAE.\n",
        "\n",
        "Sin embargo, el modelo de árbol de decisión demostró un rendimiento superior, con un R² de 0.9983, lo que refleja un ajuste excelente al modelo. Además, su MAE es considerablemente más bajo (0.0217), indicando predicciones más precisas, y el RMSLE reducido (0.0068) sugiere que maneja de manera efectiva las diferencias de proporción entre los valores predichos y los valores reales. Esto convierte al modelo de árbol de decisión en el más fiable y preciso para las predicciones en este caso.\n",
        "\n",
        "Aunque inicialmente se sospechó que el modelo de árbol de decisión podría estar sufriendo de sobreajuste, las pruebas realizadas no evidencian este problema, lo que refuerza su fiabilidad.\n",
        "\n",
        "No obstante, los árboles de decisión requieren más recursos computacionales y tiempo de procesamiento debido a su mayor complejidad, a diferencia de los modelos de regresión lineal, que son más rápidos y menos demandantes. Por lo tanto, en situaciones donde los recursos son limitados o se busca una solución más rápida, optar por un modelo de regresión lineal podría ser una mejor opción, aunque sacrificando algo de fiabilidad y precisión.\n",
        "\n"
      ],
      "metadata": {
        "id": "Kb7bwzpBX7Uw"
      },
      "id": "Kb7bwzpBX7Uw"
    },
    {
      "cell_type": "markdown",
      "id": "2feb7854",
      "metadata": {
        "id": "2feb7854"
      },
      "source": [
        "## Investigación\n",
        "\n",
        "Buscar un artículo científico (https://scholar.google.es/) con un caso de uso de **regresión** empleando una de las dos técnicas (o ambas) vistas en la actividad. Los artículos deben estar en revistas científicas, y deben ser posteriores a 2015. No debe utilizar técnicas de Deep Learning.\n",
        "\n",
        "_introduce aquí la referencia APA del artículo_\n",
        "\n",
        "título, autores, revista, año de publicación\n",
        "\n",
        "Objetivo: cuál es el objetivo de la investigación, es decir a qué problema real está aplicando la regresión. Técnicas de regresión empleadas y si realiza alguna adaptación. Principales resultados de la aplicación y de la investigación."
      ]
    },
    {
      "cell_type": "markdown",
      "source": [
        "Referencia APA del artículo:\n",
        "de Lange, D. W., Brinkman, S., van den Boogaard, M., de Keizer, N. F., & Abu-Hanna, A. (2023). Development and evaluation of regression tree models for predicting in-hospital mortality of a national registry of COVID-19 patients over six pandemic surges. BMC Medical Informatics and Decision Making, 23(1), 1–13. https://doi.org/10.1186/s12911-023-02401-2\n",
        "\n",
        "📄 Título, autores, revista, año de publicación:\n",
        "Título: Development and evaluation of regression tree models for predicting in-hospital mortality of a national registry of COVID-19 patients over six pandemic surges\n",
        "\n",
        "Autores: D. W. de Lange, S. Brinkman, M. van den Boogaard, N. F. de Keizer, A. Abu-Hanna\n",
        "\n",
        "Revista: BMC Medical Informatics and Decision Making\n",
        "\n",
        "Año de publicación: 2023\n",
        "\n",
        "🎯 Objetivo de la investigación:\n",
        "El objetivo principal del estudio fue desarrollar y evaluar modelos de árboles de regresión para predecir la mortalidad hospitalaria de pacientes con COVID-19 ingresados en unidades de cuidados intensivos (UCI) en los Países Bajos. Se utilizaron datos clínicos disponibles tanto al ingreso como a las 24 horas de hospitalización, recogidos durante seis oleadas de la pandemia. El propósito era proporcionar una herramienta interpretable y eficaz para apoyar decisiones médicas y la gestión de recursos en entornos críticos.\n",
        "\n",
        "🔍 Técnicas de regresión empleadas y adaptaciones:\n",
        "Se emplearon modelos de árboles de regresión (regression trees), que permiten la interpretación de las decisiones clínicas y la identificación de variables clave.\n",
        "\n",
        "Los modelos fueron comparados con técnicas de regresión logística.\n",
        "\n",
        "Se aplicaron métodos de validación interna como bootstrap y análisis de calibración para comprobar la estabilidad y precisión del modelo.\n",
        "\n",
        "No se utilizaron técnicas de deep learning, cumpliendo con el criterio de interpretabilidad y simplicidad.\n",
        "\n",
        "📈 Principales resultados de la aplicación e investigación:\n",
        "Los modelos de árboles de regresión lograron un AUROC de 0.72 usando variables disponibles al ingreso, y 0.74 con las variables disponibles a las 24 horas.\n",
        "\n",
        "Las variables más predictivas fueron la edad, el número de comorbilidades crónicas y parámetros clínicos básicos como el nivel de oxigenación.\n",
        "\n",
        "Se demostró que los modelos eran estables y mantenían buen rendimiento predictivo a través de distintas oleadas pandémicas.\n",
        "\n",
        "La investigación concluye que este tipo de modelos puede servir como una herramienta de apoyo clínico de bajo costo y alta utilidad, especialmente en contextos donde la interpretación y rapidez de decisión son críticas.\n",
        "\n"
      ],
      "metadata": {
        "id": "StysispSWUi9"
      },
      "id": "StysispSWUi9"
    }
  ],
  "metadata": {
    "kernelspec": {
      "display_name": "Python 3 (ipykernel)",
      "language": "python",
      "name": "python3"
    },
    "language_info": {
      "codemirror_mode": {
        "name": "ipython",
        "version": 3
      },
      "file_extension": ".py",
      "mimetype": "text/x-python",
      "name": "python",
      "nbconvert_exporter": "python",
      "pygments_lexer": "ipython3",
      "version": "3.8.18"
    },
    "colab": {
      "provenance": [],
      "include_colab_link": true
    }
  },
  "nbformat": 4,
  "nbformat_minor": 5
}